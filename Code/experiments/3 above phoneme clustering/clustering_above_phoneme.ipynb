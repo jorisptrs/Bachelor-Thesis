{
 "cells": [
  {
   "cell_type": "markdown",
   "source": [
    "# Hierarchical agglomerative clustering (Above-phoneme)"
   ],
   "metadata": {
    "collapsed": false
   }
  },
  {
   "cell_type": "markdown",
   "source": [
    "### Collect training features"
   ],
   "metadata": {
    "collapsed": false
   }
  },
  {
   "cell_type": "code",
   "execution_count": 1,
   "outputs": [
    {
     "name": "stdout",
     "output_type": "stream",
     "text": [
      "-from output\n",
      "---- success\n"
     ]
    }
   ],
   "source": [
    "import numpy as np\n",
    "import random\n",
    "import os, sys\n",
    "import matplotlib.pyplot as plt\n",
    "import warnings\n",
    "from lib.esn import ESN\n",
    "from dataset.loading import DataLoader\n",
    "\n",
    "random.seed(0)\n",
    "np.random.seed(0)\n",
    "warnings.filterwarnings(\"ignore\")\n",
    "\n",
    "directory = os.path.abspath('/Users/joris/Documents/Work/bsc ai/bt/Bachelor-Thesis/code')\n",
    "sys.path.append(directory)\n",
    "\n",
    "path = '../../data/'\n",
    "fc = DataLoader(path)\n",
    "\n",
    "dr = []\n",
    "speakers = []\n",
    "XorZ = \"X\"\n",
    "long_version = False\n",
    "n_mels = 14\n",
    "delta = False\n",
    "delta_delta = False\n",
    "subsamples = 10\n",
    "\n",
    "path_option = \"Final\"+str(long_version)+str(n_mels)+str(delta)+str(delta_delta)+str(subsamples)\n",
    "\n",
    "if dr:\n",
    "    path_option = str(dr)+\"_\"+path_option\n",
    "if len(speakers):\n",
    "    path_option = str(speakers[0])+\"_\"+path_option\n",
    "\n",
    "features, labels, _ = fc.collectFeaturesInSegments(\n",
    "    n_mels=n_mels, delta=delta, delta_delta=delta_delta,\n",
    "    long_version=long_version, speakers=speakers, dr=dr,\n",
    "    subsamples=subsamples, path_option=path_option)"
   ],
   "metadata": {
    "collapsed": false
   }
  },
  {
   "cell_type": "code",
   "execution_count": 2,
   "id": "6d56f220",
   "metadata": {},
   "outputs": [],
   "source": [
    "from dataset.data_helpers import *\n",
    "\n",
    "selected_labels = [\"aa\", \"b\", \"s\", \"iy\", \"uh\"]\n",
    "#selected_labels = [\"aa\", \"ae\", \"ah\", \"eh\", \"ih\", \"iy\", \"uh\"]\n",
    "#selected_labels = [\"aa\", \"ae\", \"ah\", \"eh\", \"ih\", \"iy\", \"uh\", \"er\", \"ey\", \"ix\", \"aw\", \"axr\", \"l\", \"oy\", \"r\", \"y\"]\n",
    "\n",
    "group = group_by_labels(features, labels)\n",
    "phonemes = list(group.keys())"
   ]
  },
  {
   "cell_type": "code",
   "execution_count": 3,
   "id": "2f14462e",
   "metadata": {},
   "outputs": [],
   "source": [
    "# init reservoir\n",
    "\n",
    "esn_params = {\n",
    "    \"in_dim\": n_mels,\n",
    "    \"out_dim\": n_mels,\n",
    "    \"N\": 10,\n",
    "    \"W_in_scale\": 1.5,\n",
    "    \"b_scale\": .2,\n",
    "    \"spectral_radius\": 1.5,\n",
    "    \"weights\": .1\n",
    "}\n",
    "\n",
    "esn = ESN(esn_params)"
   ]
  },
  {
   "cell_type": "code",
   "execution_count": 4,
   "id": "d51007d4",
   "metadata": {},
   "outputs": [
    {
     "name": "stdout",
     "output_type": "stream",
     "text": [
      "- computing conceptors\n",
      "optimizing\n",
      "Computing gammas...\n",
      "Optimal gamma:  28.94499690931227\n",
      "normalizing\n",
      "Target:  4.184852882949859\n",
      "std 0.09543901489136196\n"
     ]
    }
   ],
   "source": [
    "from lib.experiment_helpers import *\n",
    "\n",
    "aperture = \"auto\"\n",
    "normalize = True\n",
    "Cs = compute_Cs(group, esn, aperture=aperture, normalize=normalize, XorZ=XorZ)"
   ]
  },
  {
   "cell_type": "code",
   "execution_count": 6,
   "id": "9432642e",
   "metadata": {},
   "outputs": [
    {
     "name": "stdout",
     "output_type": "stream",
     "text": [
      "- computing heatmap\n",
      "--- Done\n"
     ]
    }
   ],
   "source": [
    "from lib.clustering_helpers import *\n",
    "\n",
    "save = True\n",
    "\n",
    "hm_filename = str(selected_labels)+path_option+XorZ + str(aperture) + str(esn.esn_params) + str(len(group.keys())) + str(len(list(group.values())[0])) + \"heatmap\"\n",
    "\n",
    "hm = try_reading_from_cache(hm_filename)\n",
    "if hm == False:\n",
    "    print(\"- computing heatmap\")\n",
    "    hm = dist_matrix(Cs)\n",
    "    save_to_cache(hm_filename, hm)\n",
    "    print(\"--- Done\")"
   ]
  },
  {
   "cell_type": "markdown",
   "source": [
    "### Average linkage and plotting of its results"
   ],
   "metadata": {
    "collapsed": false
   }
  },
  {
   "cell_type": "code",
   "execution_count": 9,
   "outputs": [
    {
     "ename": "TypeError",
     "evalue": "'>=' not supported between instances of 'int' and 'NoneType'",
     "output_type": "error",
     "traceback": [
      "\u001B[0;31m---------------------------------------------------------------------------\u001B[0m",
      "\u001B[0;31mTypeError\u001B[0m                                 Traceback (most recent call last)",
      "Input \u001B[0;32mIn [9]\u001B[0m, in \u001B[0;36m<cell line: 6>\u001B[0;34m()\u001B[0m\n\u001B[1;32m      2\u001B[0m \u001B[38;5;28;01mimport\u001B[39;00m \u001B[38;5;21;01mscipy\u001B[39;00m\u001B[38;5;21;01m.\u001B[39;00m\u001B[38;5;21;01mspatial\u001B[39;00m\u001B[38;5;21;01m.\u001B[39;00m\u001B[38;5;21;01mdistance\u001B[39;00m \u001B[38;5;28;01mas\u001B[39;00m \u001B[38;5;21;01mssd\u001B[39;00m\n\u001B[1;32m      4\u001B[0m distArray \u001B[38;5;241m=\u001B[39m ssd\u001B[38;5;241m.\u001B[39msquareform(hm)\n\u001B[0;32m----> 6\u001B[0m link \u001B[38;5;241m=\u001B[39m sc\u001B[38;5;241m.\u001B[39mlinkage(\u001B[38;5;241m1\u001B[39m\u001B[38;5;241m-\u001B[39mdistArray\u001B[38;5;241m/\u001B[39m\u001B[43mnp\u001B[49m\u001B[38;5;241;43m.\u001B[39;49m\u001B[43mmax\u001B[49m\u001B[43m(\u001B[49m\u001B[43mdistArray\u001B[49m\u001B[43m)\u001B[49m, method\u001B[38;5;241m=\u001B[39m\u001B[38;5;124m'\u001B[39m\u001B[38;5;124maverage\u001B[39m\u001B[38;5;124m'\u001B[39m, optimal_ordering\u001B[38;5;241m=\u001B[39m\u001B[38;5;28;01mFalse\u001B[39;00m)\n\u001B[1;32m      8\u001B[0m \u001B[38;5;66;03m# Plot dendrogram\u001B[39;00m\n\u001B[1;32m      9\u001B[0m fig, ax \u001B[38;5;241m=\u001B[39m plt\u001B[38;5;241m.\u001B[39msubplots(figsize\u001B[38;5;241m=\u001B[39m(\u001B[38;5;241m12\u001B[39m, \u001B[38;5;241m9\u001B[39m))\n",
      "File \u001B[0;32m<__array_function__ internals>:180\u001B[0m, in \u001B[0;36mamax\u001B[0;34m(*args, **kwargs)\u001B[0m\n",
      "File \u001B[0;32m~/opt/miniconda3/envs/Bachelor-Thesis/lib/python3.10/site-packages/numpy/core/fromnumeric.py:2791\u001B[0m, in \u001B[0;36mamax\u001B[0;34m(a, axis, out, keepdims, initial, where)\u001B[0m\n\u001B[1;32m   2675\u001B[0m \u001B[38;5;129m@array_function_dispatch\u001B[39m(_amax_dispatcher)\n\u001B[1;32m   2676\u001B[0m \u001B[38;5;28;01mdef\u001B[39;00m \u001B[38;5;21mamax\u001B[39m(a, axis\u001B[38;5;241m=\u001B[39m\u001B[38;5;28;01mNone\u001B[39;00m, out\u001B[38;5;241m=\u001B[39m\u001B[38;5;28;01mNone\u001B[39;00m, keepdims\u001B[38;5;241m=\u001B[39mnp\u001B[38;5;241m.\u001B[39m_NoValue, initial\u001B[38;5;241m=\u001B[39mnp\u001B[38;5;241m.\u001B[39m_NoValue,\n\u001B[1;32m   2677\u001B[0m          where\u001B[38;5;241m=\u001B[39mnp\u001B[38;5;241m.\u001B[39m_NoValue):\n\u001B[1;32m   2678\u001B[0m     \u001B[38;5;124;03m\"\"\"\u001B[39;00m\n\u001B[1;32m   2679\u001B[0m \u001B[38;5;124;03m    Return the maximum of an array or maximum along an axis.\u001B[39;00m\n\u001B[1;32m   2680\u001B[0m \n\u001B[0;32m   (...)\u001B[0m\n\u001B[1;32m   2789\u001B[0m \u001B[38;5;124;03m    5\u001B[39;00m\n\u001B[1;32m   2790\u001B[0m \u001B[38;5;124;03m    \"\"\"\u001B[39;00m\n\u001B[0;32m-> 2791\u001B[0m     \u001B[38;5;28;01mreturn\u001B[39;00m \u001B[43m_wrapreduction\u001B[49m\u001B[43m(\u001B[49m\u001B[43ma\u001B[49m\u001B[43m,\u001B[49m\u001B[43m \u001B[49m\u001B[43mnp\u001B[49m\u001B[38;5;241;43m.\u001B[39;49m\u001B[43mmaximum\u001B[49m\u001B[43m,\u001B[49m\u001B[43m \u001B[49m\u001B[38;5;124;43m'\u001B[39;49m\u001B[38;5;124;43mmax\u001B[39;49m\u001B[38;5;124;43m'\u001B[39;49m\u001B[43m,\u001B[49m\u001B[43m \u001B[49m\u001B[43maxis\u001B[49m\u001B[43m,\u001B[49m\u001B[43m \u001B[49m\u001B[38;5;28;43;01mNone\u001B[39;49;00m\u001B[43m,\u001B[49m\u001B[43m \u001B[49m\u001B[43mout\u001B[49m\u001B[43m,\u001B[49m\n\u001B[1;32m   2792\u001B[0m \u001B[43m                          \u001B[49m\u001B[43mkeepdims\u001B[49m\u001B[38;5;241;43m=\u001B[39;49m\u001B[43mkeepdims\u001B[49m\u001B[43m,\u001B[49m\u001B[43m \u001B[49m\u001B[43minitial\u001B[49m\u001B[38;5;241;43m=\u001B[39;49m\u001B[43minitial\u001B[49m\u001B[43m,\u001B[49m\u001B[43m \u001B[49m\u001B[43mwhere\u001B[49m\u001B[38;5;241;43m=\u001B[39;49m\u001B[43mwhere\u001B[49m\u001B[43m)\u001B[49m\n",
      "File \u001B[0;32m~/opt/miniconda3/envs/Bachelor-Thesis/lib/python3.10/site-packages/numpy/core/fromnumeric.py:86\u001B[0m, in \u001B[0;36m_wrapreduction\u001B[0;34m(obj, ufunc, method, axis, dtype, out, **kwargs)\u001B[0m\n\u001B[1;32m     83\u001B[0m         \u001B[38;5;28;01melse\u001B[39;00m:\n\u001B[1;32m     84\u001B[0m             \u001B[38;5;28;01mreturn\u001B[39;00m reduction(axis\u001B[38;5;241m=\u001B[39maxis, out\u001B[38;5;241m=\u001B[39mout, \u001B[38;5;241m*\u001B[39m\u001B[38;5;241m*\u001B[39mpasskwargs)\n\u001B[0;32m---> 86\u001B[0m \u001B[38;5;28;01mreturn\u001B[39;00m \u001B[43mufunc\u001B[49m\u001B[38;5;241;43m.\u001B[39;49m\u001B[43mreduce\u001B[49m\u001B[43m(\u001B[49m\u001B[43mobj\u001B[49m\u001B[43m,\u001B[49m\u001B[43m \u001B[49m\u001B[43maxis\u001B[49m\u001B[43m,\u001B[49m\u001B[43m \u001B[49m\u001B[43mdtype\u001B[49m\u001B[43m,\u001B[49m\u001B[43m \u001B[49m\u001B[43mout\u001B[49m\u001B[43m,\u001B[49m\u001B[43m \u001B[49m\u001B[38;5;241;43m*\u001B[39;49m\u001B[38;5;241;43m*\u001B[39;49m\u001B[43mpasskwargs\u001B[49m\u001B[43m)\u001B[49m\n",
      "\u001B[0;31mTypeError\u001B[0m: '>=' not supported between instances of 'int' and 'NoneType'"
     ]
    }
   ],
   "source": [
    "import scipy.cluster.hierarchy as sc\n",
    "import scipy.spatial.distance as ssd\n",
    "\n",
    "distArray = ssd.squareform(hm)\n",
    "\n",
    "link = sc.linkage(1-distArray/np.max(distArray), method='average', optimal_ordering=False)\n",
    "\n",
    "# Plot dendrogram\n",
    "fig, ax = plt.subplots(figsize=(12, 9))\n",
    "\n",
    "sc.dendrogram(link,labels=phonemes,orientation='right',distance_sort=False)\n",
    "\n",
    "plt.title(\"Average Linkage on Phoneme Conceptors using Herbert's Distance Metric\",fontsize=15)\n",
    "plt.ylabel('Phoneme',fontsize=15)\n",
    "plt.xlabel(r\"Distance d$(p^1, p^2)=1-\\frac{sim(C^1,C^2)}{max_{i,j}sim(C^i,C^j)}$\",fontsize=15)\n",
    "plt.show()"
   ],
   "metadata": {
    "collapsed": false
   }
  },
  {
   "cell_type": "markdown",
   "source": [
    "### Plot Heatmap"
   ],
   "metadata": {
    "collapsed": false
   }
  },
  {
   "cell_type": "code",
   "execution_count": 9,
   "id": "78d0ae15",
   "metadata": {},
   "outputs": [
    {
     "name": "stdout",
     "output_type": "stream",
     "text": [
      "['h#', 'w', 'ih', 's', 'ah', 'ch', 'n', 'ae', 't', 'v', 'r', 'f', 'y', 'uw', 'sh', 'l', 'b', 'iy', 'aa', 'd', 'eh', 'p', 'z', 'ey', 'dx', 'ay', 'ng', 'k', 'dh', 'er', 'm', 'jh', 'g', 'ow', 'aw', 'hh', 'uh', 'oy', 'th']\n",
      "34 39\n"
     ]
    },
    {
     "ename": "IndexError",
     "evalue": "index 35 is out of bounds for axis 0 with size 34",
     "output_type": "error",
     "traceback": [
      "\u001B[1;31m---------------------------------------------------------------------------\u001B[0m",
      "\u001B[1;31mIndexError\u001B[0m                                Traceback (most recent call last)",
      "Input \u001B[1;32mIn [9]\u001B[0m, in \u001B[0;36m<cell line: 17>\u001B[1;34m()\u001B[0m\n\u001B[0;32m     15\u001B[0m \u001B[38;5;28mprint\u001B[39m(\u001B[38;5;28mlen\u001B[39m(labs),\u001B[38;5;28mlen\u001B[39m(phonemes))\n\u001B[0;32m     16\u001B[0m reorder \u001B[38;5;241m=\u001B[39m [ phonemes\u001B[38;5;241m.\u001B[39mindex(lab) \u001B[38;5;28;01mfor\u001B[39;00m lab \u001B[38;5;129;01min\u001B[39;00m labs]\n\u001B[1;32m---> 17\u001B[0m hm \u001B[38;5;241m=\u001B[39m \u001B[43mheat_map\u001B[49m\u001B[43m[\u001B[49m\u001B[43mreorder\u001B[49m\u001B[43m,\u001B[49m\u001B[43m:\u001B[49m\u001B[43m]\u001B[49m\n\u001B[0;32m     18\u001B[0m hm \u001B[38;5;241m=\u001B[39m hm[:,reorder]\n\u001B[0;32m     19\u001B[0m ax \u001B[38;5;241m=\u001B[39m sns\u001B[38;5;241m.\u001B[39mheatmap(hm, xticklabels\u001B[38;5;241m=\u001B[39mlabs, yticklabels\u001B[38;5;241m=\u001B[39mlabs, linewidths\u001B[38;5;241m=\u001B[39m\u001B[38;5;241m.5\u001B[39m, center\u001B[38;5;241m=\u001B[39mnp\u001B[38;5;241m.\u001B[39mmean(heat_map)\u001B[38;5;241m-\u001B[39m\u001B[38;5;241m.06\u001B[39m)\n",
      "\u001B[1;31mIndexError\u001B[0m: index 35 is out of bounds for axis 0 with size 34"
     ]
    },
    {
     "data": {
      "text/plain": [
       "<Figure size 3400x3000 with 0 Axes>"
      ]
     },
     "metadata": {},
     "output_type": "display_data"
    }
   ],
   "source": [
    "import numpy as np\n",
    "import matplotlib\n",
    "import matplotlib.pyplot as plt\n",
    "import seaborn as sns\n",
    "import matplotlib.patches as patches\n",
    "\n",
    "labs = ax.xaxis.get_label()\n",
    "print(len(labs),len(phonemes))\n",
    "reorder = [ phonemes.index(lab) for lab in labs]\n",
    "hm = hm[reorder,:]\n",
    "hm = hm[:,reorder]\n",
    "\n",
    "plt.figure(figsize=(17,15),dpi=200)\n",
    "sns.set_theme()\n",
    "sns.set(font_scale=2)\n",
    "\n",
    "ax = sns.heatmap(hm, xticklabels=labs, yticklabels=labs, linewidths=.5, center=np.mean(hm)-.06)\n",
    "\n",
    "plt.rc('xtick', labelsize='20')    # fontsize of the tick labels\n",
    "plt.rc('ytick', labelsize='20')\n",
    "\n",
    "recs = [\n",
    "    [1,1]\n",
    "]\n",
    "\n",
    "for rec in recs:\n",
    "    ax.add_patch(\n",
    "         patches.Rectangle(\n",
    "             (rec[0], rec[0]),\n",
    "             rec[1],\n",
    "             rec[1],\n",
    "             edgecolor='blue',\n",
    "             fill=False,\n",
    "             lw=5\n",
    "         )\n",
    "    )\n",
    "\n",
    "plt.xticks(rotation=0)\n",
    "plt.yticks(rotation=0)\n",
    "\n",
    "plt.show()"
   ]
  },
  {
   "cell_type": "markdown",
   "source": [
    "# Old -  May be deletable"
   ],
   "metadata": {
    "collapsed": false
   }
  },
  {
   "cell_type": "code",
   "execution_count": 8,
   "id": "32c154e6",
   "metadata": {},
   "outputs": [
    {
     "ename": "NameError",
     "evalue": "name 'heat_map' is not defined",
     "output_type": "error",
     "traceback": [
      "\u001B[0;31m---------------------------------------------------------------------------\u001B[0m",
      "\u001B[0;31mNameError\u001B[0m                                 Traceback (most recent call last)",
      "Input \u001B[0;32mIn [8]\u001B[0m, in \u001B[0;36m<cell line: 4>\u001B[0;34m()\u001B[0m\n\u001B[1;32m      1\u001B[0m \u001B[38;5;28;01mimport\u001B[39;00m \u001B[38;5;21;01mscipy\u001B[39;00m\u001B[38;5;21;01m.\u001B[39;00m\u001B[38;5;21;01mcluster\u001B[39;00m\u001B[38;5;21;01m.\u001B[39;00m\u001B[38;5;21;01mhierarchy\u001B[39;00m \u001B[38;5;28;01mas\u001B[39;00m \u001B[38;5;21;01msc\u001B[39;00m\n\u001B[1;32m      2\u001B[0m \u001B[38;5;28;01mimport\u001B[39;00m \u001B[38;5;21;01mscipy\u001B[39;00m\u001B[38;5;21;01m.\u001B[39;00m\u001B[38;5;21;01mspatial\u001B[39;00m\u001B[38;5;21;01m.\u001B[39;00m\u001B[38;5;21;01mdistance\u001B[39;00m \u001B[38;5;28;01mas\u001B[39;00m \u001B[38;5;21;01mssd\u001B[39;00m\n\u001B[0;32m----> 4\u001B[0m \u001B[38;5;28;01mfor\u001B[39;00m i \u001B[38;5;129;01min\u001B[39;00m \u001B[38;5;28mrange\u001B[39m(\u001B[43mheat_map\u001B[49m\u001B[38;5;241m.\u001B[39mshape[\u001B[38;5;241m0\u001B[39m]):\n\u001B[1;32m      5\u001B[0m     heat_map[i,i] \u001B[38;5;241m=\u001B[39m \u001B[38;5;241m0\u001B[39m\n\u001B[1;32m      6\u001B[0m distArray \u001B[38;5;241m=\u001B[39m ssd\u001B[38;5;241m.\u001B[39msquareform(heat_map)\n",
      "\u001B[0;31mNameError\u001B[0m: name 'heat_map' is not defined"
     ]
    }
   ],
   "source": [
    "import scipy.cluster.hierarchy as sc\n",
    "import scipy.spatial.distance as ssd\n",
    "\n",
    "for i in range(heat_map.shape[0]):\n",
    "    heat_map[i,i] = 0\n",
    "distArray = ssd.squareform(heat_map)\n",
    "\n",
    "if dist_fun == 'cos':\n",
    "    distances = 1-distArray/np.max(distArray)\n",
    "else:\n",
    "    distances = distArray/np.max(distArray)\n",
    "\n",
    "link = sc.linkage(distances, method='average', optimal_ordering=False)\n",
    "\n",
    "# Plot dendrogram\n",
    "plt.figure(dpi=120)\n",
    "plt.title(\"Dendrograms\")  \n",
    "# Create dendrogram\n",
    "sc.dendrogram(link,labels=phonemes,orientation='right',distance_sort=False)\n",
    "\n",
    "#plt.title(\"Average Linkage on Phoneme Conceptors using Herbert's Distance Metric\",fontsize=15)\n",
    "plt.ylabel('Phoneme',fontsize=15)\n",
    "plt.xlabel(r\"Distance d$(p^1, p^2)=||p^1-p^2||$\",fontsize=15)\n",
    "plt.show()"
   ]
  },
  {
   "cell_type": "code",
   "execution_count": null,
   "outputs": [],
   "source": [
    "heat_map = np.zeros((len(phonemes),len(phonemes)))\n",
    "\n",
    "for i, samples in enumerate(group.values()):\n",
    "    print(\"It: \",i)\n",
    "    if XorZ == \"X\":\n",
    "        X = np.array([])\n",
    "        for sample in samples:\n",
    "            x,_ = esn.run_X(sample.T,0,sample.shape[0])\n",
    "            X = np.hstack((X, x)) if X.size else x\n",
    "        es = evidences_for_Cs(x,Cs_above,Ns_above)\n",
    "    es = [ np.sum(p) for p in es ]\n",
    "    es = np.array(es)\n",
    "    heat_map[i,:] = np.array(es.T)\n",
    "    heat_map[:,i] = np.array(es)\n",
    "\n",
    "print(heat_map)"
   ],
   "metadata": {
    "collapsed": false
   }
  },
  {
   "cell_type": "code",
   "execution_count": null,
   "outputs": [],
   "source": [
    "for i in range(heat_map.shape[0]):\n",
    "    heat_map[i,i] = 0\n",
    "distArray = ssd.squareform(heat_map)\n",
    "\n",
    "link = sc.linkage(1-distArray/np.max(distArray), method='average', optimal_ordering=False)\n",
    "\n",
    "# Plot dendrogram\n",
    "plt.figure(figsize=(10, 7))\n",
    "\n",
    "sc.dendrogram(link,labels=phonemes,orientation='right',distance_sort=False)\n",
    "\n",
    "plt.title(\"Average Linkage on Phoneme Conceptors using Herbert's Distance Metric\",fontsize=15)\n",
    "plt.ylabel('Phoneme',fontsize=15)\n",
    "plt.xlabel(r\"Distance d$(p^1, p^2)=1-\\frac{sim(C^1,C^2)}{max_{i,j}sim(C^i,C^j)}$\",fontsize=15)\n",
    "plt.show()"
   ],
   "metadata": {
    "collapsed": false
   }
  }
 ],
 "metadata": {
  "kernelspec": {
   "name": "python3",
   "language": "python",
   "display_name": "Python 3 (ipykernel)"
  },
  "language_info": {
   "codemirror_mode": {
    "name": "ipython",
    "version": 3
   },
   "file_extension": ".py",
   "mimetype": "text/x-python",
   "name": "python",
   "nbconvert_exporter": "python",
   "pygments_lexer": "ipython3",
   "version": "3.9.7"
  }
 },
 "nbformat": 4,
 "nbformat_minor": 5
}
