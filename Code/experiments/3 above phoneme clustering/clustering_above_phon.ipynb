{
 "cells": [
  {
   "cell_type": "markdown",
   "source": [
    "# Hierarchical agglomerative clustering (Above-phoneme)"
   ],
   "metadata": {
    "collapsed": false
   }
  },
  {
   "cell_type": "markdown",
   "source": [
    "### Collect training features"
   ],
   "metadata": {
    "collapsed": false
   }
  },
  {
   "cell_type": "code",
   "execution_count": 1,
   "outputs": [
    {
     "name": "stdout",
     "output_type": "stream",
     "text": [
      "-from output\n",
      "---- success\n"
     ]
    }
   ],
   "source": [
    "import numpy as np\n",
    "import random\n",
    "import os, sys\n",
    "import matplotlib.pyplot as plt\n",
    "import warnings\n",
    "from lib.esn import ESN\n",
    "from dataset.loading import DataLoader\n",
    "\n",
    "random.seed(0)\n",
    "np.random.seed(0)\n",
    "warnings.filterwarnings(\"ignore\")\n",
    "\n",
    "directory = os.path.abspath('/Users/joris/Documents/Work/bsc ai/bt/Bachelor-Thesis/code')\n",
    "sys.path.append(directory)\n",
    "\n",
    "path = '../../data/'\n",
    "fc = DataLoader(path)\n",
    "\n",
    "dr = []\n",
    "speakers = []\n",
    "XorZ = \"X\"\n",
    "long_version = False\n",
    "n_mels = 14\n",
    "delta = False\n",
    "delta_delta = False\n",
    "subsamples = 10\n",
    "\n",
    "path_option = \"Final\"+str(long_version)+str(n_mels)+str(delta)+str(delta_delta)+str(subsamples)\n",
    "\n",
    "if dr:\n",
    "    path_option = str(dr)+\"_\"+path_option\n",
    "if len(speakers):\n",
    "    path_option = str(speakers[0])+\"_\"+path_option\n",
    "\n",
    "features, labels, _ = fc.collectFeaturesInSegments(\n",
    "    n_mels=n_mels, delta=delta, delta_delta=delta_delta,\n",
    "    long_version=long_version, speakers=speakers, dr=dr,\n",
    "    subsamples=subsamples, path_option=path_option)"
   ],
   "metadata": {
    "collapsed": false
   }
  },
  {
   "cell_type": "code",
   "execution_count": 2,
   "id": "6d56f220",
   "metadata": {},
   "outputs": [
    {
     "name": "stdout",
     "output_type": "stream",
     "text": [
      "Filtered to 200 samples of shape (10, 14)\n",
      "5 phonemes: ['s', 'b', 'iy', 'aa', 'uh']\n"
     ]
    }
   ],
   "source": [
    "from dataset.data_helpers import *\n",
    "\n",
    "#selected_labels = None\n",
    "selected_labels = [\"aa\", \"b\", \"s\", \"iy\", \"uh\"]\n",
    "#selected_labels = [\"aa\", \"ae\", \"ah\", \"eh\", \"ih\", \"iy\", \"uh\"]\n",
    "#selected_labels = [\"aa\", \"ae\", \"ah\", \"eh\", \"ih\", \"iy\", \"uh\", \"er\", \"ey\", \"ix\", \"aw\", \"axr\", \"l\", \"oy\", \"r\", \"y\"]\n",
    "\n",
    "phonemes, features, labels = filter_data(features, labels, selected_labels=selected_labels, limit=40)\n",
    "group = group_by_labels(features, labels)\n",
    "n_samples = len(features)\n",
    "n_classes = len(phonemes)\n",
    "\n",
    "print(f\"{str(n_classes)} phonemes: {phonemes}\")"
   ]
  },
  {
   "cell_type": "code",
   "execution_count": 3,
   "id": "2f14462e",
   "metadata": {},
   "outputs": [],
   "source": [
    "# init reservoir\n",
    "\n",
    "esn_params = {\n",
    "    \"in_dim\": n_mels,\n",
    "    \"out_dim\": n_mels,\n",
    "    \"N\": 10,\n",
    "    \"W_in_scale\": 1.5,\n",
    "    \"b_scale\": .2,\n",
    "    \"spectral_radius\": 1.5,\n",
    "    \"weights\": .1\n",
    "}\n",
    "\n",
    "esn = ESN(esn_params)"
   ]
  },
  {
   "cell_type": "code",
   "execution_count": 4,
   "id": "d51007d4",
   "metadata": {},
   "outputs": [
    {
     "name": "stdout",
     "output_type": "stream",
     "text": [
      "- loading from file\n",
      "--- Done\n"
     ]
    }
   ],
   "source": [
    "from lib.experiment_helpers import *\n",
    "\n",
    "aperture = \"auto\"\n",
    "normalize = True\n",
    "Cs = compute_Cs(group=group, esn=esn, aperture=aperture, normalize=normalize, XorZ=XorZ)"
   ]
  },
  {
   "cell_type": "code",
   "execution_count": 8,
   "id": "9432642e",
   "metadata": {},
   "outputs": [
    {
     "name": "stdout",
     "output_type": "stream",
     "text": [
      "- computing heatmap\n",
      "--- Done\n"
     ]
    }
   ],
   "source": [
    "from lib.clustering_metrics import get_heat_map\n",
    "from lib.clustering_helpers import *\n",
    "\n",
    "save = False\n",
    "\n",
    "hm_filename = str(selected_labels)+path_option+XorZ + str(aperture) + str(esn.esn_params) + str(len(group.keys())) + str(len(list(group.values())[0])) + \"heatmap\"\n",
    "\n",
    "hm = None\n",
    "if save:\n",
    "    hm = try_reading_from_cache(hm_filename)\n",
    "if hm is None:\n",
    "    print(\"- computing heatmap\")\n",
    "    hm = get_heat_map(Cs, similarity_c)\n",
    "    save_to_cache(hm_filename, hm)\n",
    "    print(\"--- Done\")"
   ]
  },
  {
   "cell_type": "markdown",
   "source": [
    "### Average linkage and plotting of its results"
   ],
   "metadata": {
    "collapsed": false
   }
  },
  {
   "cell_type": "code",
   "execution_count": 11,
   "outputs": [
    {
     "ename": "ValueError",
     "evalue": "Distance matrix 'X' diagonal must be zero.",
     "output_type": "error",
     "traceback": [
      "\u001B[0;31m---------------------------------------------------------------------------\u001B[0m",
      "\u001B[0;31mValueError\u001B[0m                                Traceback (most recent call last)",
      "Input \u001B[0;32mIn [11]\u001B[0m, in \u001B[0;36m<cell line: 4>\u001B[0;34m()\u001B[0m\n\u001B[1;32m      1\u001B[0m \u001B[38;5;28;01mimport\u001B[39;00m \u001B[38;5;21;01mscipy\u001B[39;00m\u001B[38;5;21;01m.\u001B[39;00m\u001B[38;5;21;01mcluster\u001B[39;00m\u001B[38;5;21;01m.\u001B[39;00m\u001B[38;5;21;01mhierarchy\u001B[39;00m \u001B[38;5;28;01mas\u001B[39;00m \u001B[38;5;21;01msc\u001B[39;00m\n\u001B[1;32m      2\u001B[0m \u001B[38;5;28;01mimport\u001B[39;00m \u001B[38;5;21;01mscipy\u001B[39;00m\u001B[38;5;21;01m.\u001B[39;00m\u001B[38;5;21;01mspatial\u001B[39;00m\u001B[38;5;21;01m.\u001B[39;00m\u001B[38;5;21;01mdistance\u001B[39;00m \u001B[38;5;28;01mas\u001B[39;00m \u001B[38;5;21;01mssd\u001B[39;00m\n\u001B[0;32m----> 4\u001B[0m distArray \u001B[38;5;241m=\u001B[39m \u001B[43mssd\u001B[49m\u001B[38;5;241;43m.\u001B[39;49m\u001B[43msquareform\u001B[49m\u001B[43m(\u001B[49m\u001B[43mhm\u001B[49m\u001B[43m)\u001B[49m\n\u001B[1;32m      6\u001B[0m link \u001B[38;5;241m=\u001B[39m sc\u001B[38;5;241m.\u001B[39mlinkage(distArray, method\u001B[38;5;241m=\u001B[39m\u001B[38;5;124m'\u001B[39m\u001B[38;5;124maverage\u001B[39m\u001B[38;5;124m'\u001B[39m, optimal_ordering\u001B[38;5;241m=\u001B[39m\u001B[38;5;28;01mFalse\u001B[39;00m)\n\u001B[1;32m      8\u001B[0m \u001B[38;5;66;03m# Plot dendrogram\u001B[39;00m\n",
      "File \u001B[0;32m~/opt/miniconda3/envs/Bachelor-Thesis/lib/python3.10/site-packages/scipy/spatial/distance.py:2362\u001B[0m, in \u001B[0;36msquareform\u001B[0;34m(X, force, checks)\u001B[0m\n\u001B[1;32m   2360\u001B[0m     \u001B[38;5;28;01mraise\u001B[39;00m \u001B[38;5;167;01mValueError\u001B[39;00m(\u001B[38;5;124m'\u001B[39m\u001B[38;5;124mThe matrix argument must be square.\u001B[39m\u001B[38;5;124m'\u001B[39m)\n\u001B[1;32m   2361\u001B[0m \u001B[38;5;28;01mif\u001B[39;00m checks:\n\u001B[0;32m-> 2362\u001B[0m     \u001B[43mis_valid_dm\u001B[49m\u001B[43m(\u001B[49m\u001B[43mX\u001B[49m\u001B[43m,\u001B[49m\u001B[43m \u001B[49m\u001B[43mthrow\u001B[49m\u001B[38;5;241;43m=\u001B[39;49m\u001B[38;5;28;43;01mTrue\u001B[39;49;00m\u001B[43m,\u001B[49m\u001B[43m \u001B[49m\u001B[43mname\u001B[49m\u001B[38;5;241;43m=\u001B[39;49m\u001B[38;5;124;43m'\u001B[39;49m\u001B[38;5;124;43mX\u001B[39;49m\u001B[38;5;124;43m'\u001B[39;49m\u001B[43m)\u001B[49m\n\u001B[1;32m   2364\u001B[0m \u001B[38;5;66;03m# One-side of the dimensions is set here.\u001B[39;00m\n\u001B[1;32m   2365\u001B[0m d \u001B[38;5;241m=\u001B[39m s[\u001B[38;5;241m0\u001B[39m]\n",
      "File \u001B[0;32m~/opt/miniconda3/envs/Bachelor-Thesis/lib/python3.10/site-packages/scipy/spatial/distance.py:2443\u001B[0m, in \u001B[0;36mis_valid_dm\u001B[0;34m(D, tol, throw, name, warning)\u001B[0m\n\u001B[1;32m   2441\u001B[0m \u001B[38;5;28;01mif\u001B[39;00m \u001B[38;5;129;01mnot\u001B[39;00m (D[\u001B[38;5;28mrange\u001B[39m(\u001B[38;5;241m0\u001B[39m, s[\u001B[38;5;241m0\u001B[39m]), \u001B[38;5;28mrange\u001B[39m(\u001B[38;5;241m0\u001B[39m, s[\u001B[38;5;241m0\u001B[39m])] \u001B[38;5;241m==\u001B[39m \u001B[38;5;241m0\u001B[39m)\u001B[38;5;241m.\u001B[39mall():\n\u001B[1;32m   2442\u001B[0m     \u001B[38;5;28;01mif\u001B[39;00m name:\n\u001B[0;32m-> 2443\u001B[0m         \u001B[38;5;28;01mraise\u001B[39;00m \u001B[38;5;167;01mValueError\u001B[39;00m((\u001B[38;5;124m'\u001B[39m\u001B[38;5;124mDistance matrix \u001B[39m\u001B[38;5;130;01m\\'\u001B[39;00m\u001B[38;5;132;01m%s\u001B[39;00m\u001B[38;5;130;01m\\'\u001B[39;00m\u001B[38;5;124m diagonal must \u001B[39m\u001B[38;5;124m'\u001B[39m\n\u001B[1;32m   2444\u001B[0m                           \u001B[38;5;124m'\u001B[39m\u001B[38;5;124mbe zero.\u001B[39m\u001B[38;5;124m'\u001B[39m) \u001B[38;5;241m%\u001B[39m name)\n\u001B[1;32m   2445\u001B[0m     \u001B[38;5;28;01melse\u001B[39;00m:\n\u001B[1;32m   2446\u001B[0m         \u001B[38;5;28;01mraise\u001B[39;00m \u001B[38;5;167;01mValueError\u001B[39;00m(\u001B[38;5;124m'\u001B[39m\u001B[38;5;124mDistance matrix diagonal must be zero.\u001B[39m\u001B[38;5;124m'\u001B[39m)\n",
      "\u001B[0;31mValueError\u001B[0m: Distance matrix 'X' diagonal must be zero."
     ]
    }
   ],
   "source": [
    "import scipy.cluster.hierarchy as sc\n",
    "import scipy.spatial.distance as ssd\n",
    "\n",
    "distArray = ssd.squareform(hm)\n",
    "\n",
    "link = sc.linkage(1-distArray/np.max(distArray), method='average', optimal_ordering=False)\n",
    "\n",
    "# Plot dendrogram\n",
    "fig, ax = plt.subplots(figsize=(12, 9))\n",
    "\n",
    "sc.dendrogram(link,labels=phonemes,orientation='right',distance_sort=False)\n",
    "\n",
    "plt.title(\"Average Linkage on Phoneme Conceptors using Herbert's Distance Metric\",fontsize=15)\n",
    "plt.ylabel('Phoneme',fontsize=15)\n",
    "plt.xlabel(r\"Distance d$(p^1, p^2)=1-\\frac{sim(C^1,C^2)}{max_{i,j}sim(C^i,C^j)}$\",fontsize=15)\n",
    "plt.show()"
   ],
   "metadata": {
    "collapsed": false
   }
  },
  {
   "cell_type": "markdown",
   "source": [
    "### Plot Heatmap"
   ],
   "metadata": {
    "collapsed": false
   }
  },
  {
   "cell_type": "code",
   "execution_count": null,
   "id": "78d0ae15",
   "metadata": {},
   "outputs": [],
   "source": [
    "import numpy as np\n",
    "import matplotlib\n",
    "import matplotlib.pyplot as plt\n",
    "import seaborn as sns\n",
    "import matplotlib.patches as patches\n",
    "\n",
    "labs = ax.xaxis.get_label()\n",
    "print(len(labs),len(phonemes))\n",
    "reorder = [ phonemes.index(lab) for lab in labs]\n",
    "hm = hm[reorder,:]\n",
    "hm = hm[:,reorder]\n",
    "\n",
    "plt.figure(figsize=(17,15),dpi=200)\n",
    "sns.set_theme()\n",
    "sns.set(font_scale=2)\n",
    "\n",
    "ax = sns.heatmap(hm, xticklabels=labs, yticklabels=labs, linewidths=.5, center=np.mean(hm)-.06)\n",
    "\n",
    "plt.rc('xtick', labelsize='20')    # fontsize of the tick labels\n",
    "plt.rc('ytick', labelsize='20')\n",
    "\n",
    "recs = [\n",
    "    [1,1]\n",
    "]\n",
    "\n",
    "for rec in recs:\n",
    "    ax.add_patch(\n",
    "         patches.Rectangle(\n",
    "             (rec[0], rec[0]),\n",
    "             rec[1],\n",
    "             rec[1],\n",
    "             edgecolor='blue',\n",
    "             fill=False,\n",
    "             lw=5\n",
    "         )\n",
    "    )\n",
    "\n",
    "plt.xticks(rotation=0)\n",
    "plt.yticks(rotation=0)\n",
    "\n",
    "plt.show()"
   ]
  },
  {
   "cell_type": "markdown",
   "source": [
    "# Old -  May be deletable"
   ],
   "metadata": {
    "collapsed": false
   }
  },
  {
   "cell_type": "code",
   "execution_count": null,
   "id": "32c154e6",
   "metadata": {},
   "outputs": [],
   "source": [
    "import scipy.cluster.hierarchy as sc\n",
    "import scipy.spatial.distance as ssd\n",
    "\n",
    "for i in range(heat_map.shape[0]):\n",
    "    heat_map[i,i] = 0\n",
    "distArray = ssd.squareform(heat_map)\n",
    "\n",
    "if dist_fun == 'cos':\n",
    "    distances = 1-distArray/np.max(distArray)\n",
    "else:\n",
    "    distances = distArray/np.max(distArray)\n",
    "\n",
    "link = sc.linkage(distances, method='average', optimal_ordering=False)\n",
    "\n",
    "# Plot dendrogram\n",
    "plt.figure(dpi=120)\n",
    "plt.title(\"Dendrograms\")  \n",
    "# Create dendrogram\n",
    "sc.dendrogram(link,labels=phonemes,orientation='right',distance_sort=False)\n",
    "\n",
    "#plt.title(\"Average Linkage on Phoneme Conceptors using Herbert's Distance Metric\",fontsize=15)\n",
    "plt.ylabel('Phoneme',fontsize=15)\n",
    "plt.xlabel(r\"Distance d$(p^1, p^2)=||p^1-p^2||$\",fontsize=15)\n",
    "plt.show()"
   ]
  },
  {
   "cell_type": "code",
   "execution_count": null,
   "outputs": [],
   "source": [
    "heat_map = np.zeros((len(phonemes),len(phonemes)))\n",
    "\n",
    "for i, samples in enumerate(group.values()):\n",
    "    print(\"It: \",i)\n",
    "    if XorZ == \"X\":\n",
    "        X = np.array([])\n",
    "        for sample in samples:\n",
    "            x,_ = esn.run_X(sample.T,0,sample.shape[0])\n",
    "            X = np.hstack((X, x)) if X.size else x\n",
    "        es = evidences_for_Cs(x,Cs_above,Ns_above)\n",
    "    es = [ np.sum(p) for p in es ]\n",
    "    es = np.array(es)\n",
    "    heat_map[i,:] = np.array(es.T)\n",
    "    heat_map[:,i] = np.array(es)\n",
    "\n",
    "print(heat_map)"
   ],
   "metadata": {
    "collapsed": false
   }
  },
  {
   "cell_type": "code",
   "execution_count": null,
   "outputs": [],
   "source": [
    "for i in range(heat_map.shape[0]):\n",
    "    heat_map[i,i] = 0\n",
    "distArray = ssd.squareform(heat_map)\n",
    "\n",
    "link = sc.linkage(1-distArray/np.max(distArray), method='average', optimal_ordering=False)\n",
    "\n",
    "# Plot dendrogram\n",
    "plt.figure(figsize=(10, 7))\n",
    "\n",
    "sc.dendrogram(link,labels=phonemes,orientation='right',distance_sort=False)\n",
    "\n",
    "plt.title(\"Average Linkage on Phoneme Conceptors using Herbert's Distance Metric\",fontsize=15)\n",
    "plt.ylabel('Phoneme',fontsize=15)\n",
    "plt.xlabel(r\"Distance d$(p^1, p^2)=1-\\frac{sim(C^1,C^2)}{max_{i,j}sim(C^i,C^j)}$\",fontsize=15)\n",
    "plt.show()"
   ],
   "metadata": {
    "collapsed": false
   }
  },
  {
   "cell_type": "code",
   "execution_count": null,
   "outputs": [],
   "source": [
    "save = True\n",
    "dist_fun = \"cos\"\n",
    "hm_filename = \"_5_40_1100_False_14_False_False_10_hm_cos\"\n",
    "\n",
    "if save and os.path.exists('./cache/working/'+hm_filename+'.pkl'):\n",
    "    print(\"- from file\")\n",
    "    fp = open('./cache/working/'+hm_filename+'.pkl','rb')\n",
    "    heat_map = pkl.load(fp)\n",
    "    fp.close()\n",
    "    print(\"--- Done\")\n",
    "else:\n",
    "    print(\"- computing heatmap\")\n",
    "    heat_map = np.zeros((len(phonemes),len(phonemes)))\n",
    "\n",
    "    for x in range(len(phonemes)):\n",
    "        for y in range(0, x+1):\n",
    "            sim = similarity_c(Cs[x], Cs[y])\n",
    "            heat_map[x,y] = sim\n",
    "            heat_map[y,x] = sim\n",
    "    if save:\n",
    "        fp = open(\"./cache/working/\"+hm_filename+\".pkl\",'wb')\n",
    "        pkl.dump(heat_map,fp)\n",
    "        fp.close()\n",
    "    print(\"--- Done\")"
   ],
   "metadata": {
    "collapsed": false
   }
  },
  {
   "cell_type": "code",
   "execution_count": null,
   "outputs": [],
   "source": [
    "coll = []\n",
    "hm = heat_map.copy()\n",
    "\n",
    "for t in range(len(phonemes)**2):\n",
    "    max = 0\n",
    "    maxx = 0\n",
    "    maxy = 0\n",
    "    for x in range(hm.shape[0]):\n",
    "        for y in range(0, x):\n",
    "            if max < hm[x,y]:\n",
    "                max = hm[x,y]\n",
    "                maxx = x\n",
    "                maxy = y\n",
    "    coll.append((phonemes[maxx],phonemes[maxy],hm[maxx,maxy]))\n",
    "    hm[maxx, maxy] = 0\n",
    "\n",
    "for x,y,val in coll:\n",
    "    print(x,\" \",y,\" \",val)"
   ],
   "metadata": {
    "collapsed": false
   }
  },
  {
   "cell_type": "code",
   "execution_count": null,
   "outputs": [],
   "source": [
    "import scipy.cluster.hierarchy as sc\n",
    "import scipy.spatial.distance as ssd\n",
    "\n",
    "for i in range(heat_map.shape[0]):\n",
    "    heat_map[i,i] = 0\n",
    "distArray = ssd.squareform(heat_map)\n",
    "\n",
    "if dist_fun == 'cos':\n",
    "    distances = 1-distArray/np.max(distArray)\n",
    "elif dist_fun == 'eucl':\n",
    "    distances = distArray/np.max(distArray)\n",
    "\n",
    "link = sc.linkage(distances, method='average', optimal_ordering=False)\n",
    "\n",
    "# Plot dendrogram\n",
    "plt.figure(dpi=120)\n",
    "plt.title(\"Dendrograms\")\n",
    "# Create dendrogram\n",
    "sc.dendrogram(link,labels=phonemes,orientation='right',distance_sort=False)\n",
    "\n",
    "#plt.title(\"Average Linkage on Phoneme Conceptors using Herbert's Distance Metric\",fontsize=15)\n",
    "plt.ylabel('Phoneme',fontsize=15)\n",
    "plt.xlabel(r\"Distance d$(p^1, p^2)=1-\\frac{sim(C^1,C^2)}{max_{i,j}sim(C^i,C^j)}$\",fontsize=15)\n",
    "plt.show()"
   ],
   "metadata": {
    "collapsed": false
   }
  },
  {
   "cell_type": "code",
   "execution_count": null,
   "outputs": [],
   "source": [
    "import numpy as np\n",
    "import matplotlib\n",
    "import matplotlib.pyplot as plt\n",
    "import seaborn as sns\n",
    "import matplotlib.patches as patches\n",
    "plt.figure(figsize=(17,15),dpi=200)\n",
    "sns.set_theme()\n",
    "\n",
    "ticklabels=phonemes\n",
    "print(phonemes)\n",
    "sns.set(font_scale=2)\n",
    "labs = ['dh','v',\"h#\",'k','t','p','hh','g','d','b','dx','ah','ih','uw','ey','iy','eh','ae','ay','ow','aa','er','r','l','w','ng','n','m','y','z','s','sh','jh','f']\n",
    "labs = ['g','d',\"b\",'dx','hh','dh','hh','g','d','b','dx','ah','ih','uw','ey','iy','eh','ae','ay','ow','aa','er','r','l','w','ng','n','m','y','z','s','sh','jh','f']\n",
    "\n",
    "print(len(labs),len(phonemes))\n",
    "reorder = [ phonemes.index(lab) for lab in labs]\n",
    "hm = heat_map[reorder,:]\n",
    "hm = hm[:,reorder]\n",
    "ax = sns.heatmap(hm, xticklabels=labs, yticklabels=labs, linewidths=.5, center=np.mean(heat_map)-.06)\n",
    "\n",
    "plt.rc('xtick', labelsize='20')    # fontsize of the tick labels\n",
    "plt.rc('ytick', labelsize='20')\n",
    "\n",
    "recs = [\n",
    "    [1,1]\n",
    "\n",
    "]\n",
    "\n",
    "for rec in recs:\n",
    "    ax.add_patch(\n",
    "         patches.Rectangle(\n",
    "             (rec[0], rec[0]),\n",
    "             rec[1],\n",
    "             rec[1],\n",
    "             edgecolor='blue',\n",
    "             fill=False,\n",
    "             lw=5\n",
    "         ) )\n",
    "\n",
    "plt.xticks(rotation=0)\n",
    "plt.yticks(rotation=0)\n",
    "\n",
    "plt.show()"
   ],
   "metadata": {
    "collapsed": false
   }
  }
 ],
 "metadata": {
  "kernelspec": {
   "name": "python3",
   "language": "python",
   "display_name": "Python 3 (ipykernel)"
  },
  "language_info": {
   "codemirror_mode": {
    "name": "ipython",
    "version": 3
   },
   "file_extension": ".py",
   "mimetype": "text/x-python",
   "name": "python",
   "nbconvert_exporter": "python",
   "pygments_lexer": "ipython3",
   "version": "3.9.7"
  }
 },
 "nbformat": 4,
 "nbformat_minor": 5
}
