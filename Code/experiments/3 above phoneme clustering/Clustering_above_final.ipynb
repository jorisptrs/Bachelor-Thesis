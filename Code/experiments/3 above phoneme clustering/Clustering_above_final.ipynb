{
 "cells": [
  {
   "cell_type": "markdown",
   "source": [
    "# Hierarchical agglomerative clustering (Above-phoneme)"
   ],
   "metadata": {
    "collapsed": false
   }
  },
  {
   "cell_type": "markdown",
   "source": [
    "### Collect training features"
   ],
   "metadata": {
    "collapsed": false
   }
  },
  {
   "cell_type": "code",
   "execution_count": null,
   "outputs": [],
   "source": [
    "import numpy as np\n",
    "import random\n",
    "import os, sys\n",
    "import matplotlib.pyplot as plt\n",
    "import warnings\n",
    "from lib.esn import ESN\n",
    "from dataset.loading import Feature_Collector\n",
    "\n",
    "random.seed(0)\n",
    "np.random.seed(0)\n",
    "warnings.filterwarnings(\"ignore\")\n",
    "\n",
    "directory = os.path.abspath('/Users/joris/Documents/Work/bsc ai/bt/Bachelor-Thesis/code')\n",
    "sys.path.append(directory)\n",
    "\n",
    "path = '../../data/'\n",
    "fc = Feature_Collector(path)\n",
    "\n",
    "dr = []\n",
    "speakers = []\n",
    "XorZ = \"X\"\n",
    "long_version = False\n",
    "n_mels = 13\n",
    "delta = False\n",
    "delta_delta = False\n",
    "subsamples = 10\n",
    "\n",
    "path_option = \"Final\"+str(long_version)+str(n_mels)+str(delta)+str(delta_delta)+str(subsamples)\n",
    "\n",
    "if dr:\n",
    "    path_option = str(dr)+\"_\"+path_option\n",
    "if len(speakers):\n",
    "    path_option = str(speakers[0])+\"_\"+path_option\n",
    "\n",
    "features, labels, _ = fc.collectFeaturesInSegments(\n",
    "    n_mels=n_mels, delta=delta, delta_delta=delta_delta,\n",
    "    long_version=long_version, speakers=speakers, dr=dr,\n",
    "    subsamples=subsamples, path_option=path_option)"
   ],
   "metadata": {
    "collapsed": false,
    "pycharm": {
     "is_executing": true
    }
   }
  },
  {
   "cell_type": "code",
   "execution_count": null,
   "id": "6d56f220",
   "metadata": {
    "pycharm": {
     "is_executing": true
    }
   },
   "outputs": [],
   "source": [
    "from dataset.data_helpers import *\n",
    "\n",
    "selected_labels = [\"aa\", \"b\", \"s\", \"iy\", \"uh\"]\n",
    "#selected_labels = [\"aa\", \"ae\", \"ah\", \"eh\", \"ih\", \"iy\", \"uh\"]\n",
    "#selected_labels = [\"aa\", \"ae\", \"ah\", \"eh\", \"ih\", \"iy\", \"uh\", \"er\", \"ey\", \"ix\", \"aw\", \"axr\", \"l\", \"oy\", \"r\", \"y\"]\n",
    "\n",
    "group = group_by_labels(features, labels, selected_labels=selected_labels)\n",
    "phonemes = list(group.keys())"
   ]
  },
  {
   "cell_type": "code",
   "execution_count": 3,
   "id": "2f14462e",
   "metadata": {},
   "outputs": [],
   "source": [
    "# init reservoir\n",
    "esn_params = {\n",
    "    \"in_dim\": n_mels*(1+delta+delta_delta),\n",
    "    \"out_dim\": n_mels*(1+delta+delta_delta),\n",
    "    \"N\": 10,\n",
    "    \"W_in_scale\": 1.5,\n",
    "    \"b_scale\": .2,\n",
    "    \"spectral_radius\": 1.5\n",
    "}\n",
    "\n",
    "esn = ESN(esn_params)"
   ]
  },
  {
   "cell_type": "code",
   "execution_count": 4,
   "id": "d51007d4",
   "metadata": {},
   "outputs": [
    {
     "name": "stdout",
     "output_type": "stream",
     "text": [
      "h#  -  39467  samples\n",
      "w  -  3140  samples\n",
      "ih  -  13693  samples\n",
      "s  -  7475  samples\n",
      "ah  -  6291  samples\n",
      "ch  -  822  samples\n",
      "n  -  8762  samples\n",
      "ae  -  3997  samples\n",
      "t  -  4364  samples\n",
      "v  -  1994  samples\n",
      "r  -  6539  samples\n",
      "f  -  2216  samples\n",
      "y  -  1715  samples\n",
      "uw  -  2463  samples\n",
      "sh  -  2389  samples\n",
      "l  -  6752  samples\n",
      "b  -  2181  samples\n",
      "iy  -  6953  samples\n",
      "aa  -  6004  samples\n",
      "d  -  3548  samples\n",
      "eh  -  3853  samples\n",
      "p  -  2588  samples\n",
      "z  -  3773  samples\n",
      "ey  -  2282  samples\n",
      "dx  -  2709  samples\n",
      "ay  -  2390  samples\n",
      "ng  -  1368  samples\n",
      "k  -  4874  samples\n",
      "dh  -  2826  samples\n",
      "er  -  5453  samples\n",
      "m  -  4027  samples\n",
      "jh  -  1209  samples\n",
      "g  -  2017  samples\n",
      "ow  -  2136  samples\n",
      "aw  -  729  samples\n",
      "hh  -  2111  samples\n",
      "uh  -  535  samples\n",
      "oy  -  684  samples\n",
      "th  -  751  samples\n"
     ]
    }
   ],
   "source": [
    "from lib.experiment_helpers import *\n",
    "\n",
    "aperture = \"auto\"\n",
    "normalize = True\n",
    "Cs = compute_Cs(group, esn, aperture=aperture, normalize=normalize, XorZ=XorZ)"
   ]
  },
  {
   "cell_type": "code",
   "execution_count": 6,
   "id": "9432642e",
   "metadata": {},
   "outputs": [
    {
     "name": "stdout",
     "output_type": "stream",
     "text": [
      "- computing heatmap\n",
      "--- Done\n"
     ]
    }
   ],
   "source": [
    "from lib.clustering_helpers import *\n",
    "\n",
    "save = True\n",
    "\n",
    "hm_filename = str(selected_labels)+path_option+XorZ + str(aperture) + str(esn.esn_params) + str(group.keys()) + str(len(list(group.values())[0])) + \"heatmap\"\n",
    "\n",
    "hm = try_reading_from_cache(hm_filename)\n",
    "if hm == False:\n",
    "    print(\"- computing heatmap\")\n",
    "    hm = dist_matrix(Cs)\n",
    "    save_to_cache(hm_filename, hm)\n",
    "    print(\"--- Done\")"
   ]
  },
  {
   "cell_type": "markdown",
   "source": [
    "### Average linkage and plotting of its results"
   ],
   "metadata": {
    "collapsed": false
   }
  },
  {
   "cell_type": "code",
   "execution_count": null,
   "outputs": [],
   "source": [
    "import scipy.cluster.hierarchy as sc\n",
    "import scipy.spatial.distance as ssd\n",
    "\n",
    "distArray = ssd.squareform(hm)\n",
    "\n",
    "link = sc.linkage(1-distArray/np.max(distArray), method='average', optimal_ordering=False)\n",
    "\n",
    "# Plot dendrogram\n",
    "fig, ax = plt.subplots(figsize=(12, 9))\n",
    "\n",
    "sc.dendrogram(link,labels=phonemes,orientation='right',distance_sort=False)\n",
    "\n",
    "plt.title(\"Average Linkage on Phoneme Conceptors using Herbert's Distance Metric\",fontsize=15)\n",
    "plt.ylabel('Phoneme',fontsize=15)\n",
    "plt.xlabel(r\"Distance d$(p^1, p^2)=1-\\frac{sim(C^1,C^2)}{max_{i,j}sim(C^i,C^j)}$\",fontsize=15)\n",
    "plt.show()"
   ],
   "metadata": {
    "collapsed": false
   }
  },
  {
   "cell_type": "markdown",
   "source": [
    "### Plot Heatmap"
   ],
   "metadata": {
    "collapsed": false
   }
  },
  {
   "cell_type": "code",
   "execution_count": 9,
   "id": "78d0ae15",
   "metadata": {},
   "outputs": [
    {
     "name": "stdout",
     "output_type": "stream",
     "text": [
      "['h#', 'w', 'ih', 's', 'ah', 'ch', 'n', 'ae', 't', 'v', 'r', 'f', 'y', 'uw', 'sh', 'l', 'b', 'iy', 'aa', 'd', 'eh', 'p', 'z', 'ey', 'dx', 'ay', 'ng', 'k', 'dh', 'er', 'm', 'jh', 'g', 'ow', 'aw', 'hh', 'uh', 'oy', 'th']\n",
      "34 39\n"
     ]
    },
    {
     "ename": "IndexError",
     "evalue": "index 35 is out of bounds for axis 0 with size 34",
     "output_type": "error",
     "traceback": [
      "\u001B[1;31m---------------------------------------------------------------------------\u001B[0m",
      "\u001B[1;31mIndexError\u001B[0m                                Traceback (most recent call last)",
      "Input \u001B[1;32mIn [9]\u001B[0m, in \u001B[0;36m<cell line: 17>\u001B[1;34m()\u001B[0m\n\u001B[0;32m     15\u001B[0m \u001B[38;5;28mprint\u001B[39m(\u001B[38;5;28mlen\u001B[39m(labs),\u001B[38;5;28mlen\u001B[39m(phonemes))\n\u001B[0;32m     16\u001B[0m reorder \u001B[38;5;241m=\u001B[39m [ phonemes\u001B[38;5;241m.\u001B[39mindex(lab) \u001B[38;5;28;01mfor\u001B[39;00m lab \u001B[38;5;129;01min\u001B[39;00m labs]\n\u001B[1;32m---> 17\u001B[0m hm \u001B[38;5;241m=\u001B[39m \u001B[43mheat_map\u001B[49m\u001B[43m[\u001B[49m\u001B[43mreorder\u001B[49m\u001B[43m,\u001B[49m\u001B[43m:\u001B[49m\u001B[43m]\u001B[49m\n\u001B[0;32m     18\u001B[0m hm \u001B[38;5;241m=\u001B[39m hm[:,reorder]\n\u001B[0;32m     19\u001B[0m ax \u001B[38;5;241m=\u001B[39m sns\u001B[38;5;241m.\u001B[39mheatmap(hm, xticklabels\u001B[38;5;241m=\u001B[39mlabs, yticklabels\u001B[38;5;241m=\u001B[39mlabs, linewidths\u001B[38;5;241m=\u001B[39m\u001B[38;5;241m.5\u001B[39m, center\u001B[38;5;241m=\u001B[39mnp\u001B[38;5;241m.\u001B[39mmean(heat_map)\u001B[38;5;241m-\u001B[39m\u001B[38;5;241m.06\u001B[39m)\n",
      "\u001B[1;31mIndexError\u001B[0m: index 35 is out of bounds for axis 0 with size 34"
     ]
    },
    {
     "data": {
      "text/plain": [
       "<Figure size 3400x3000 with 0 Axes>"
      ]
     },
     "metadata": {},
     "output_type": "display_data"
    }
   ],
   "source": [
    "import numpy as np\n",
    "import matplotlib\n",
    "import matplotlib.pyplot as plt\n",
    "import seaborn as sns\n",
    "import matplotlib.patches as patches\n",
    "\n",
    "labs = ax.xaxis.get_label()\n",
    "print(len(labs),len(phonemes))\n",
    "reorder = [ phonemes.index(lab) for lab in labs]\n",
    "hm = hm[reorder,:]\n",
    "hm = hm[:,reorder]\n",
    "\n",
    "plt.figure(figsize=(17,15),dpi=200)\n",
    "sns.set_theme()\n",
    "sns.set(font_scale=2)\n",
    "\n",
    "ax = sns.heatmap(hm, xticklabels=labs, yticklabels=labs, linewidths=.5, center=np.mean(hm)-.06)\n",
    "\n",
    "plt.rc('xtick', labelsize='20')    # fontsize of the tick labels\n",
    "plt.rc('ytick', labelsize='20')\n",
    "\n",
    "recs = [\n",
    "    [1,1]\n",
    "    \n",
    "]\n",
    "\n",
    "for rec in recs:\n",
    "    ax.add_patch(\n",
    "         patches.Rectangle(\n",
    "             (rec[0], rec[0]),\n",
    "             rec[1],\n",
    "             rec[1],\n",
    "             edgecolor='blue',\n",
    "             fill=False,\n",
    "             lw=5\n",
    "         ) )\n",
    "\n",
    "plt.xticks(rotation=0)\n",
    "plt.yticks(rotation=0)\n",
    "\n",
    "plt.show()"
   ]
  },
  {
   "cell_type": "markdown",
   "source": [
    "# Old -  May be deletable"
   ],
   "metadata": {
    "collapsed": false
   }
  },
  {
   "cell_type": "code",
   "execution_count": 8,
   "id": "32c154e6",
   "metadata": {},
   "outputs": [
    {
     "data": {
      "image/png": "[encoded data removed]",
      "text/plain": [
       "<Figure size 720x480 with 1 Axes>"
      ]
     },
     "metadata": {
      "needs_background": "light"
     },
     "output_type": "display_data"
    }
   ],
   "source": [
    "import scipy.cluster.hierarchy as sc\n",
    "import scipy.spatial.distance as ssd\n",
    "\n",
    "for i in range(heat_map.shape[0]):\n",
    "    heat_map[i,i] = 0\n",
    "distArray = ssd.squareform(heat_map)\n",
    "\n",
    "if dist_fun == 'cos':\n",
    "    distances = 1-distArray/np.max(distArray)\n",
    "else:\n",
    "    distances = distArray/np.max(distArray)\n",
    "\n",
    "link = sc.linkage(distances, method='average', optimal_ordering=False)\n",
    "\n",
    "# Plot dendrogram\n",
    "plt.figure(dpi=120)\n",
    "plt.title(\"Dendrograms\")  \n",
    "# Create dendrogram\n",
    "sc.dendrogram(link,labels=phonemes,orientation='right',distance_sort=False)\n",
    "\n",
    "#plt.title(\"Average Linkage on Phoneme Conceptors using Herbert's Distance Metric\",fontsize=15)\n",
    "plt.ylabel('Phoneme',fontsize=15)\n",
    "plt.xlabel(r\"Distance d$(p^1, p^2)=||p^1-p^2||$\",fontsize=15)\n",
    "plt.show()"
   ]
  },
  {
   "cell_type": "code",
   "execution_count": null,
   "outputs": [],
   "source": [
    "heat_map = np.zeros((len(phonemes),len(phonemes)))\n",
    "\n",
    "for i, samples in enumerate(group.values()):\n",
    "    print(\"It: \",i)\n",
    "    if XorZ == \"X\":\n",
    "        X = np.array([])\n",
    "        for sample in samples:\n",
    "            x,_ = esn.run_X(sample.T,0,sample.shape[0])\n",
    "            X = np.hstack((X, x)) if X.size else x\n",
    "        es = evidences_for_Cs(x,Cs_above,Ns_above)\n",
    "    es = [ np.sum(p) for p in es ]\n",
    "    es = np.array(es)\n",
    "    heat_map[i,:] = np.array(es.T)\n",
    "    heat_map[:,i] = np.array(es)\n",
    "\n",
    "print(heat_map)"
   ],
   "metadata": {
    "collapsed": false
   }
  },
  {
   "cell_type": "code",
   "execution_count": null,
   "outputs": [],
   "source": [
    "for i in range(heat_map.shape[0]):\n",
    "    heat_map[i,i] = 0\n",
    "distArray = ssd.squareform(heat_map)\n",
    "\n",
    "link = sc.linkage(1-distArray/np.max(distArray), method='average', optimal_ordering=False)\n",
    "\n",
    "# Plot dendrogram\n",
    "plt.figure(figsize=(10, 7))\n",
    "\n",
    "sc.dendrogram(link,labels=phonemes,orientation='right',distance_sort=False)\n",
    "\n",
    "plt.title(\"Average Linkage on Phoneme Conceptors using Herbert's Distance Metric\",fontsize=15)\n",
    "plt.ylabel('Phoneme',fontsize=15)\n",
    "plt.xlabel(r\"Distance d$(p^1, p^2)=1-\\frac{sim(C^1,C^2)}{max_{i,j}sim(C^i,C^j)}$\",fontsize=15)\n",
    "plt.show()"
   ],
   "metadata": {
    "collapsed": false
   }
  }
 ],
 "metadata": {
  "kernelspec": {
   "display_name": "Python [conda env:tf2]",
   "language": "python",
   "name": "conda-env-tf2-py"
  },
  "language_info": {
   "codemirror_mode": {
    "name": "ipython",
    "version": 3
   },
   "file_extension": ".py",
   "mimetype": "text/x-python",
   "name": "python",
   "nbconvert_exporter": "python",
   "pygments_lexer": "ipython3",
   "version": "3.9.7"
  }
 },
 "nbformat": 4,
 "nbformat_minor": 5
}
