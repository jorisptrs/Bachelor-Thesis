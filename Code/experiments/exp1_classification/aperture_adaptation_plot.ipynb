{
 "cells": [
  {
   "cell_type": "code",
   "execution_count": 1,
   "metadata": {
    "collapsed": true
   },
   "outputs": [
    {
     "name": "stdout",
     "output_type": "stream",
     "text": [
      "-from output\n",
      "---- success\n"
     ]
    }
   ],
   "source": [
    "import numpy as np\n",
    "import random\n",
    "import os, sys\n",
    "import warnings\n",
    "\n",
    "from matplotlib import pyplot as plt\n",
    "\n",
    "from env_variables import *\n",
    "from lib.esn import ESN\n",
    "from dataset.loading import DataLoader\n",
    "\n",
    "random.seed(0)\n",
    "np.random.seed(0)\n",
    "warnings.filterwarnings(\"ignore\")\n",
    "\n",
    "directory = os.path.abspath('/Users/joris/Documents/Work/bsc ai/bt/Bachelor-Thesis/code')\n",
    "sys.path.append(directory)\n",
    "\n",
    "data_path = '../../../'\n",
    "dl = DataLoader(data_path)\n",
    "\n",
    "dr = []\n",
    "speakers = []\n",
    "XorZ = \"X\"\n",
    "long_version = False\n",
    "n_mels = 14\n",
    "delta = False\n",
    "delta_delta = False\n",
    "subsamples = 10\n",
    "const_params = {\n",
    "    \"n_mels\":n_mels,\n",
    "    \"XorZ\":XorZ,\n",
    "    \"N\":100\n",
    "}\n",
    "\n",
    "path_option = \"Final\"+str(long_version)+str(n_mels)+str(delta)+str(delta_delta)+str(subsamples)\n",
    "\n",
    "if dr:\n",
    "    path_option = str(dr)+\"_\"+path_option\n",
    "if len(speakers):\n",
    "    path_option = str(speakers[0])+\"_\"+path_option\n",
    "\n",
    "features_train, labels_train, _ = dl.collectFeaturesInSegments(\n",
    "    n_mels=n_mels, delta=delta, delta_delta=delta_delta,\n",
    "    long_version=long_version, speakers=speakers, dr=dr,\n",
    "    subsamples=subsamples, path_option=path_option)"
   ]
  },
  {
   "cell_type": "code",
   "execution_count": 2,
   "outputs": [
    {
     "name": "stdout",
     "output_type": "stream",
     "text": [
      "Filtered to 7800 samples of shape (10, 14)\n"
     ]
    }
   ],
   "source": [
    "from dataset.data_processing import *\n",
    "\n",
    "phonemes, features_train, labels_train = filter_data(features_train, labels_train, limit=200)"
   ],
   "metadata": {
    "collapsed": false
   }
  },
  {
   "cell_type": "code",
   "execution_count": 9,
   "outputs": [],
   "source": [
    "from lib.plotting.plot_0 import Plot\n",
    "from experiments.helpers.experiment_helpers import *\n",
    "from sklearn.base import BaseEstimator, ClassifierMixin\n",
    "\n",
    "class Classifier(BaseEstimator, ClassifierMixin):\n",
    "\n",
    "    def __init__(self,\n",
    "                 W_in_scale,\n",
    "                 b_scale,\n",
    "                 spectral_radius,\n",
    "                 weights):\n",
    "        self.W_in_scale = W_in_scale\n",
    "        self.spectral_radius = spectral_radius\n",
    "        self.b_scale = b_scale\n",
    "        self.weights = weights\n",
    "\n",
    "        self.n_mels = None\n",
    "        self.XorZ = None\n",
    "        self.N = None\n",
    "        self.n_samples = None\n",
    "        self.classes = None\n",
    "        self.esn = None\n",
    "        self.Cs_clas = None\n",
    "        self.Ns_clas = None\n",
    "\n",
    "    def fit(self, X, y, **params):\n",
    "        self.n_mels = params[\"n_mels\"]\n",
    "        self.XorZ = params[\"XorZ\"]\n",
    "        self.N = params[\"N\"]\n",
    "\n",
    "        # Group data by class\n",
    "        group = group_by_labels(X, y)\n",
    "\n",
    "        self.classes = list(group.keys())\n",
    "        self.n_samples = sum([len(x) for x in list(group.values())])\n",
    "\n",
    "        print(f\"Number of samples: {self.n_samples}\")\n",
    "        # Init Reservoir\n",
    "        esn_params = {\n",
    "            \"in_dim\": self.n_mels,\n",
    "            \"out_dim\": self.n_mels,\n",
    "            \"N\": self.N,\n",
    "            \"W_in_scale\": self.W_in_scale,\n",
    "            \"b_scale\": self.b_scale,\n",
    "            \"spectral_radius\": self.spectral_radius,\n",
    "            \"weights\": self.weights\n",
    "        }\n",
    "        self.esn = ESN(esn_params)\n",
    "\n",
    "        Cs = []\n",
    "        for _, signals in group.items():\n",
    "            X = run_all(self.esn, signals, XorZ)\n",
    "            Cs.append(compute_c(X, 1))\n",
    "        ss_list = [ [sum_of_singular_vals(C)] for C in Cs ]\n",
    "        Cs = optimize_apertures(Cs, start=0.5, end=500, n=150)\n",
    "\n",
    "        #### Plotting\n",
    "\n",
    "        target_sum = np.mean([sum_of_singular_vals(C) for C in Cs])\n",
    "        #st = np.std([sum_of_singular_vals(C) for C in Cs])\n",
    "        Cs, ss_list_2 = adapt_singular_vals_of_Cs(Cs, target_sum, debug=True)\n",
    "        ss_list = [ ss_list[i] + ss_list_2[i] for i in range(len(ss_list)) ]\n",
    "        #Ns = Ns_from_Cs(Cs)\n",
    "        for ss in ss_list:\n",
    "            plt.plot(ss)\n",
    "        plt.show()\n",
    "        # Return the classifier\n",
    "        return self\n",
    "\n",
    "    def predict(self, X):\n",
    "        y = []\n",
    "        for sample in X:\n",
    "            x = self.esn.run(sample.T, XorZ=self.XorZ)\n",
    "            es = evidences_for_Cs(x,self.Cs_clas,self.Ns_clas)\n",
    "            if self.XorZ == \"X\":\n",
    "                es = [ np.sum(p) for p in es ]\n",
    "            y.append(self.classes[np.argmax(es)])\n",
    "\n",
    "        return y"
   ],
   "metadata": {
    "collapsed": false
   }
  },
  {
   "cell_type": "code",
   "execution_count": 10,
   "outputs": [
    {
     "name": "stdout",
     "output_type": "stream",
     "text": [
      "Number of samples: 7800\n",
      "Computing gammas...\n",
      "Optimal gamma:  235.60930948339322\n"
     ]
    },
    {
     "data": {
      "text/plain": "<Figure size 432x288 with 1 Axes>",
      "image/png": "[encoded data removed]"
     },
     "metadata": {
      "needs_background": "light"
     },
     "output_type": "display_data"
    },
    {
     "data": {
      "text/plain": "Classifier(W_in_scale=1.5, b_scale=0.2, spectral_radius=1.5, weights=0.1)",
      "text/html": "<style>#sk-container-id-1 {color: black;background-color: white;}#sk-container-id-1 pre{padding: 0;}#sk-container-id-1 div.sk-toggleable {background-color: white;}#sk-container-id-1 label.sk-toggleable__label {cursor: pointer;display: block;width: 100%;margin-bottom: 0;padding: 0.3em;box-sizing: border-box;text-align: center;}#sk-container-id-1 label.sk-toggleable__label-arrow:before {content: \"▸\";float: left;margin-right: 0.25em;color: #696969;}#sk-container-id-1 label.sk-toggleable__label-arrow:hover:before {color: black;}#sk-container-id-1 div.sk-estimator:hover label.sk-toggleable__label-arrow:before {color: black;}#sk-container-id-1 div.sk-toggleable__content {max-height: 0;max-width: 0;overflow: hidden;text-align: left;background-color: #f0f8ff;}#sk-container-id-1 div.sk-toggleable__content pre {margin: 0.2em;color: black;border-radius: 0.25em;background-color: #f0f8ff;}#sk-container-id-1 input.sk-toggleable__control:checked~div.sk-toggleable__content {max-height: 200px;max-width: 100%;overflow: auto;}#sk-container-id-1 input.sk-toggleable__control:checked~label.sk-toggleable__label-arrow:before {content: \"▾\";}#sk-container-id-1 div.sk-estimator input.sk-toggleable__control:checked~label.sk-toggleable__label {background-color: #d4ebff;}#sk-container-id-1 div.sk-label input.sk-toggleable__control:checked~label.sk-toggleable__label {background-color: #d4ebff;}#sk-container-id-1 input.sk-hidden--visually {border: 0;clip: rect(1px 1px 1px 1px);clip: rect(1px, 1px, 1px, 1px);height: 1px;margin: -1px;overflow: hidden;padding: 0;position: absolute;width: 1px;}#sk-container-id-1 div.sk-estimator {font-family: monospace;background-color: #f0f8ff;border: 1px dotted black;border-radius: 0.25em;box-sizing: border-box;margin-bottom: 0.5em;}#sk-container-id-1 div.sk-estimator:hover {background-color: #d4ebff;}#sk-container-id-1 div.sk-parallel-item::after {content: \"\";width: 100%;border-bottom: 1px solid gray;flex-grow: 1;}#sk-container-id-1 div.sk-label:hover label.sk-toggleable__label {background-color: #d4ebff;}#sk-container-id-1 div.sk-serial::before {content: \"\";position: absolute;border-left: 1px solid gray;box-sizing: border-box;top: 0;bottom: 0;left: 50%;z-index: 0;}#sk-container-id-1 div.sk-serial {display: flex;flex-direction: column;align-items: center;background-color: white;padding-right: 0.2em;padding-left: 0.2em;position: relative;}#sk-container-id-1 div.sk-item {position: relative;z-index: 1;}#sk-container-id-1 div.sk-parallel {display: flex;align-items: stretch;justify-content: center;background-color: white;position: relative;}#sk-container-id-1 div.sk-item::before, #sk-container-id-1 div.sk-parallel-item::before {content: \"\";position: absolute;border-left: 1px solid gray;box-sizing: border-box;top: 0;bottom: 0;left: 50%;z-index: -1;}#sk-container-id-1 div.sk-parallel-item {display: flex;flex-direction: column;z-index: 1;position: relative;background-color: white;}#sk-container-id-1 div.sk-parallel-item:first-child::after {align-self: flex-end;width: 50%;}#sk-container-id-1 div.sk-parallel-item:last-child::after {align-self: flex-start;width: 50%;}#sk-container-id-1 div.sk-parallel-item:only-child::after {width: 0;}#sk-container-id-1 div.sk-dashed-wrapped {border: 1px dashed gray;margin: 0 0.4em 0.5em 0.4em;box-sizing: border-box;padding-bottom: 0.4em;background-color: white;}#sk-container-id-1 div.sk-label label {font-family: monospace;font-weight: bold;display: inline-block;line-height: 1.2em;}#sk-container-id-1 div.sk-label-container {text-align: center;}#sk-container-id-1 div.sk-container {/* jupyter's `normalize.less` sets `[hidden] { display: none; }` but bootstrap.min.css set `[hidden] { display: none !important; }` so we also need the `!important` here to be able to override the default hidden behavior on the sphinx rendered scikit-learn.org. See: https://github.com/scikit-learn/scikit-learn/issues/21755 */display: inline-block !important;position: relative;}#sk-container-id-1 div.sk-text-repr-fallback {display: none;}</style><div id=\"sk-container-id-1\" class=\"sk-top-container\"><div class=\"sk-text-repr-fallback\"><pre>Classifier(W_in_scale=1.5, b_scale=0.2, spectral_radius=1.5, weights=0.1)</pre><b>In a Jupyter environment, please rerun this cell to show the HTML representation or trust the notebook. <br />On GitHub, the HTML representation is unable to render, please try loading this page with nbviewer.org.</b></div><div class=\"sk-container\" hidden><div class=\"sk-item\"><div class=\"sk-estimator sk-toggleable\"><input class=\"sk-toggleable__control sk-hidden--visually\" id=\"sk-estimator-id-1\" type=\"checkbox\" checked><label for=\"sk-estimator-id-1\" class=\"sk-toggleable__label sk-toggleable__label-arrow\">Classifier</label><div class=\"sk-toggleable__content\"><pre>Classifier(W_in_scale=1.5, b_scale=0.2, spectral_radius=1.5, weights=0.1)</pre></div></div></div></div></div>"
     },
     "execution_count": 10,
     "metadata": {},
     "output_type": "execute_result"
    }
   ],
   "source": [
    "clas = Classifier(1.5,\n",
    "    .2,\n",
    "    1.5,\n",
    "    .1)\n",
    "\n",
    "clas.fit(features_train, labels_train, **{\n",
    "    \"n_mels\": n_mels,\n",
    "    \"XorZ\": \"X\",\n",
    "    \"N\": 100\n",
    "})"
   ],
   "metadata": {
    "collapsed": false
   }
  }
 ],
 "metadata": {
  "kernelspec": {
   "display_name": "Python 3",
   "language": "python",
   "name": "python3"
  },
  "language_info": {
   "codemirror_mode": {
    "name": "ipython",
    "version": 2
   },
   "file_extension": ".py",
   "mimetype": "text/x-python",
   "name": "python",
   "nbconvert_exporter": "python",
   "pygments_lexer": "ipython2",
   "version": "2.7.6"
  }
 },
 "nbformat": 4,
 "nbformat_minor": 0
}
