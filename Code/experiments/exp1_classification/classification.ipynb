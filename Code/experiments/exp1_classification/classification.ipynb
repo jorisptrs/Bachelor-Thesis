{
 "cells": [
  {
   "cell_type": "markdown",
   "id": "60b2514c",
   "metadata": {},
   "source": [
    "# Classification"
   ]
  },
  {
   "cell_type": "markdown",
   "id": "c55fb8b6",
   "metadata": {},
   "source": [
    "Import libraries and helpers"
   ]
  },
  {
   "cell_type": "code",
   "execution_count": 1,
   "outputs": [],
   "source": [
    "import os, sys\n",
    "\n",
    "directory = os.path.abspath('/Users/joris/Documents/Work/bsc ai/bt/Bachelor-Thesis/code')\n",
    "sys.path.append(directory)\n",
    "\n",
    "from classifier import Classifier\n",
    "from env_variables import *\n",
    "from dataset.loading import DataLoader\n",
    "\n",
    "import numpy as np\n",
    "import random\n",
    "import warnings\n",
    "from matplotlib import pyplot as plt\n",
    "\n",
    "random.seed(0)\n",
    "np.random.seed(0)\n",
    "warnings.filterwarnings(\"ignore\")"
   ],
   "metadata": {
    "collapsed": false
   }
  },
  {
   "cell_type": "markdown",
   "source": [
    "#### Data\n",
    "Collect the complete TIMIT training dataset. The data are pre-processed into 10 steps long 14-mffc signals with 39 phoneme labels/classes."
   ],
   "metadata": {
    "collapsed": false
   }
  },
  {
   "cell_type": "code",
   "execution_count": 2,
   "id": "74e86d3e",
   "metadata": {},
   "outputs": [
    {
     "name": "stdout",
     "output_type": "stream",
     "text": [
      "-from output\n",
      "---- success\n"
     ]
    }
   ],
   "source": [
    "data_path = '../../../'\n",
    "cache_dir = '../../cache/'\n",
    "dl = DataLoader(data_path, cache_dir)\n",
    "\n",
    "dr = []\n",
    "speakers = []\n",
    "long_version = False\n",
    "n_mels = 13\n",
    "delta = False\n",
    "delta_delta = False\n",
    "subsamples = 10\n",
    "\n",
    "path_option = \"Final\"+str(long_version)+str(n_mels)+str(delta)+str(delta_delta)+str(subsamples)\n",
    "\n",
    "if dr:\n",
    "    path_option = str(dr)+path_option\n",
    "if len(speakers):\n",
    "    path_option = str(len(speakers))+path_option\n",
    "\n",
    "features, labels, _ = dl.collectFeaturesInSegments(\n",
    "    n_mels=n_mels, delta=delta, delta_delta=delta_delta,\n",
    "    long_version=long_version, speakers=speakers, dr=dr,\n",
    "    subsamples=subsamples, path_option=path_option)"
   ]
  },
  {
   "cell_type": "markdown",
   "id": "11cebfd6",
   "metadata": {},
   "source": [
    "Regroup data and label arrays into a phoneme-keyed dictionary."
   ]
  },
  {
   "cell_type": "code",
   "execution_count": 3,
   "id": "6d56f220",
   "metadata": {},
   "outputs": [
    {
     "name": "stdout",
     "output_type": "stream",
     "text": [
      "Filtered to 141648 train and 35432 test samples.\n",
      "...of shape: (10, 13)\n"
     ]
    }
   ],
   "source": [
    "from dataset.data_processing import *\n",
    "\n",
    "phonemes, features_train, labels_train, features_test, labels_test = filter_and_downsample(features, labels, percent_limit=.8)"
   ]
  },
  {
   "cell_type": "markdown",
   "id": "390a2ec9",
   "metadata": {},
   "source": [
    "### Classification\n",
    "Largely following the method presented by Jaeger (2014).\n",
    "The ESN parameters were chosen by hand."
   ]
  },
  {
   "cell_type": "markdown",
   "source": [
    "#### 1. Train & Develop"
   ],
   "metadata": {
    "collapsed": false
   }
  },
  {
   "cell_type": "code",
   "execution_count": 4,
   "outputs": [],
   "source": [
    "clas = Classifier(W_in_scale=1.0,\n",
    "                 b_scale=.6,\n",
    "                 spectral_radius=2.3,\n",
    "                 weights=.1)\n",
    "\n",
    "_ = clas.fit(features_train, labels_train, **{\n",
    "    \"n_mels\": n_mels,\n",
    "    \"XorZ\": \"X\",\n",
    "    \"N\": 100,\n",
    "    \"cache\": False\n",
    "})"
   ],
   "metadata": {
    "collapsed": false
   }
  },
  {
   "cell_type": "code",
   "execution_count": 5,
   "outputs": [
    {
     "name": "stdout",
     "output_type": "stream",
     "text": [
      "Development Accuracy of x : 0.5566154888236622\n"
     ]
    }
   ],
   "source": [
    "print(f'Development Accuracy of x : {clas.score(features_test, labels_test)}')"
   ],
   "metadata": {
    "collapsed": false
   }
  },
  {
   "cell_type": "markdown",
   "source": [
    "#### 2. Retrain & Evaluate on Whole Dataset\n",
    "Train"
   ],
   "metadata": {
    "collapsed": false
   }
  },
  {
   "cell_type": "code",
   "execution_count": 6,
   "outputs": [],
   "source": [
    "_ = clas.fit(features, labels, **{\n",
    "    \"n_mels\": n_mels,\n",
    "    \"XorZ\": \"X\",\n",
    "    \"N\": 100,\n",
    "    \"cache\": False\n",
    "})"
   ],
   "metadata": {
    "collapsed": false
   }
  },
  {
   "cell_type": "markdown",
   "source": [
    "Test"
   ],
   "metadata": {
    "collapsed": false
   }
  },
  {
   "cell_type": "code",
   "execution_count": 7,
   "outputs": [
    {
     "name": "stdout",
     "output_type": "stream",
     "text": [
      "-from output\n",
      "---- success\n",
      "Training Accuracy of x : 0.5381804833973345\n",
      "Test Accuracy of x     : 0.5383584067347416\n"
     ]
    }
   ],
   "source": [
    "features_test, labels_test, _ = dl.collectFeaturesInSegments(\n",
    "    ft='Test',n_mels=n_mels,delta=delta,delta_delta=delta_delta,\n",
    "    long_version=long_version,speakers=[],dr=dr,sentence=[],\n",
    "    subsamples=subsamples,path_option=path_option+\"_test\")\n",
    "\n",
    "print(f'Training Accuracy of x : {clas.score(features, labels)}')\n",
    "print(f'Test Accuracy of x     : {clas.score(features_test, labels_test)}')"
   ],
   "metadata": {
    "collapsed": false
   }
  },
  {
   "cell_type": "markdown",
   "source": [
    "Construct a Confusion Matrix to distinguish between classes"
   ],
   "metadata": {
    "collapsed": false
   }
  },
  {
   "cell_type": "code",
   "execution_count": 8,
   "outputs": [],
   "source": [
    "labels_pred = clas.predict(features_test)"
   ],
   "metadata": {
    "collapsed": false
   }
  },
  {
   "cell_type": "code",
   "execution_count": 9,
   "outputs": [
    {
     "data": {
      "text/plain": "<sklearn.metrics._plot.confusion_matrix.ConfusionMatrixDisplay at 0x15d7c2a40>"
     },
     "execution_count": 9,
     "metadata": {},
     "output_type": "execute_result"
    },
    {
     "data": {
      "text/plain": "<Figure size 1008x828 with 2 Axes>",
      "image/png": "[encoded data removed]"
     },
     "metadata": {
      "needs_background": "light"
     },
     "output_type": "display_data"
    }
   ],
   "source": [
    "from sklearn.metrics import confusion_matrix, ConfusionMatrixDisplay\n",
    "\n",
    "phonemes_in_order = ['ah', 'uw', 'sh', 'iy', 'ih', 'eh', 'ae', 'aa', 'ey', 'ay', 'er', 'ow', 'oy', 'aw', 'uh',\n",
    "               'l', 'r', 'w', 'y', 'hh', 'h#',\n",
    "               'm', 'n', 'ng',\n",
    "               's', 'z', 'f', 'v', 'th', 'dh',\n",
    "               'jh', 'ch',\n",
    "               'b', 'd', 'g', 'k', 'p', 't', 'dx']\n",
    "\n",
    "\n",
    "cm = confusion_matrix(labels_test, labels_pred, labels=phonemes_in_order, normalize='true')\n",
    "disp = ConfusionMatrixDisplay(cm, display_labels=phonemes_in_order)\n",
    "fig, ax = plt.subplots(figsize=(14,11.5))\n",
    "ax.set_xlabel(\"\", fontsize = default_font_size)\n",
    "ax.set_ylabel(\"\", fontsize = default_font_size)\n",
    "disp.plot(ax=ax, include_values=False)"
   ],
   "metadata": {
    "collapsed": false
   }
  },
  {
   "cell_type": "markdown",
   "source": [
    "## Extras\n",
    "\n",
    "#### Z-Classification: Including the input signals into the conceptors"
   ],
   "metadata": {
    "collapsed": false
   }
  },
  {
   "cell_type": "code",
   "execution_count": 10,
   "outputs": [
    {
     "name": "stdout",
     "output_type": "stream",
     "text": [
      "Training Accuracy of z : 0.6061786964870666\n",
      "Test Accuracy of z     : 0.46064385376880507\n"
     ]
    }
   ],
   "source": [
    "clas2 = Classifier(1.5, .2, 1.5, .1) # Z optimal params\n",
    "\n",
    "clas2.fit(features_train, labels_train, **{\n",
    "    \"n_mels\":n_mels,\n",
    "    \"XorZ\":\"Z\",\n",
    "    \"N\":40,\n",
    "    \"cache\":True\n",
    "})\n",
    "\n",
    "print(f'Training Accuracy of z : {clas2.score(features_train, labels_train)}')\n",
    "print(f'Test Accuracy of z     : {clas2.score(features_test, labels_test)}')"
   ],
   "metadata": {
    "collapsed": false
   }
  },
  {
   "cell_type": "markdown",
   "source": [
    "#### Bayesian Hyperparameter Tuning\n",
    "Running this is only feasible with small ESNs (<40 neurons)."
   ],
   "metadata": {
    "collapsed": false
   }
  },
  {
   "cell_type": "code",
   "execution_count": 11,
   "outputs": [
    {
     "name": "stdout",
     "output_type": "stream",
     "text": [
      "|   iter    |  target   | W_in_s... |  b_scale  | spectr... |  weights  |\n",
      "-------------------------------------------------------------------------\n"
     ]
    },
    {
     "ename": "KeyError",
     "evalue": "'cache'",
     "output_type": "error",
     "traceback": [
      "\u001B[0;31m---------------------------------------------------------------------------\u001B[0m",
      "\u001B[0;31mKeyError\u001B[0m                                  Traceback (most recent call last)",
      "File \u001B[0;32m~/opt/miniconda3/envs/Bachelor-Thesis/lib/python3.10/site-packages/bayes_opt/target_space.py:191\u001B[0m, in \u001B[0;36mTargetSpace.probe\u001B[0;34m(self, params)\u001B[0m\n\u001B[1;32m    190\u001B[0m \u001B[38;5;28;01mtry\u001B[39;00m:\n\u001B[0;32m--> 191\u001B[0m     target \u001B[38;5;241m=\u001B[39m \u001B[38;5;28;43mself\u001B[39;49m\u001B[38;5;241;43m.\u001B[39;49m\u001B[43m_cache\u001B[49m\u001B[43m[\u001B[49m\u001B[43m_hashable\u001B[49m\u001B[43m(\u001B[49m\u001B[43mx\u001B[49m\u001B[43m)\u001B[49m\u001B[43m]\u001B[49m\n\u001B[1;32m    192\u001B[0m \u001B[38;5;28;01mexcept\u001B[39;00m \u001B[38;5;167;01mKeyError\u001B[39;00m:\n",
      "\u001B[0;31mKeyError\u001B[0m: (1.1021388728153763, 1.430378732744839, 2.415025870525859, 0.5494343511669278)",
      "\nDuring handling of the above exception, another exception occurred:\n",
      "\u001B[0;31mKeyError\u001B[0m                                  Traceback (most recent call last)",
      "Input \u001B[0;32mIn [11]\u001B[0m, in \u001B[0;36m<cell line: 38>\u001B[0;34m()\u001B[0m\n\u001B[1;32m     34\u001B[0m \u001B[38;5;66;03m# Bayesian optimization of the objective function.\u001B[39;00m\n\u001B[1;32m     35\u001B[0m optimizer \u001B[38;5;241m=\u001B[39m BayesianOptimization(f \u001B[38;5;241m=\u001B[39m objective_function,\n\u001B[1;32m     36\u001B[0m                                  pbounds \u001B[38;5;241m=\u001B[39m parameters,\n\u001B[1;32m     37\u001B[0m                                  random_state \u001B[38;5;241m=\u001B[39m \u001B[38;5;241m0\u001B[39m)\n\u001B[0;32m---> 38\u001B[0m \u001B[43moptimizer\u001B[49m\u001B[38;5;241;43m.\u001B[39;49m\u001B[43mmaximize\u001B[49m\u001B[43m(\u001B[49m\u001B[43minit_points\u001B[49m\u001B[43m \u001B[49m\u001B[38;5;241;43m=\u001B[39;49m\u001B[43m \u001B[49m\u001B[38;5;241;43m10\u001B[39;49m\u001B[43m,\u001B[49m\u001B[43m \u001B[49m\u001B[43mn_iter\u001B[49m\u001B[43m \u001B[49m\u001B[38;5;241;43m=\u001B[39;49m\u001B[43m \u001B[49m\u001B[38;5;241;43m100\u001B[39;49m\u001B[43m)\u001B[49m\n\u001B[1;32m     40\u001B[0m best_params \u001B[38;5;241m=\u001B[39m optimizer\u001B[38;5;241m.\u001B[39mmax[\u001B[38;5;124m'\u001B[39m\u001B[38;5;124mparams\u001B[39m\u001B[38;5;124m'\u001B[39m]\n\u001B[1;32m     41\u001B[0m \u001B[38;5;28mprint\u001B[39m(\u001B[38;5;124mf\u001B[39m\u001B[38;5;124m\"\u001B[39m\u001B[38;5;124mBest parmaters: \u001B[39m\u001B[38;5;132;01m{\u001B[39;00mbest_params\u001B[38;5;132;01m}\u001B[39;00m\u001B[38;5;124m; f(x) = \u001B[39m\u001B[38;5;132;01m{\u001B[39;00moptimizer\u001B[38;5;241m.\u001B[39mmax[\u001B[38;5;124m'\u001B[39m\u001B[38;5;124mtarget\u001B[39m\u001B[38;5;124m'\u001B[39m]\u001B[38;5;132;01m}\u001B[39;00m\u001B[38;5;124m.\u001B[39m\u001B[38;5;124m\"\u001B[39m)\n",
      "File \u001B[0;32m~/opt/miniconda3/envs/Bachelor-Thesis/lib/python3.10/site-packages/bayes_opt/bayesian_optimization.py:305\u001B[0m, in \u001B[0;36mBayesianOptimization.maximize\u001B[0;34m(self, init_points, n_iter, acq, kappa, kappa_decay, kappa_decay_delay, xi, **gp_params)\u001B[0m\n\u001B[1;32m    303\u001B[0m     x_probe \u001B[38;5;241m=\u001B[39m \u001B[38;5;28mself\u001B[39m\u001B[38;5;241m.\u001B[39msuggest(util)\n\u001B[1;32m    304\u001B[0m     iteration \u001B[38;5;241m+\u001B[39m\u001B[38;5;241m=\u001B[39m \u001B[38;5;241m1\u001B[39m\n\u001B[0;32m--> 305\u001B[0m \u001B[38;5;28;43mself\u001B[39;49m\u001B[38;5;241;43m.\u001B[39;49m\u001B[43mprobe\u001B[49m\u001B[43m(\u001B[49m\u001B[43mx_probe\u001B[49m\u001B[43m,\u001B[49m\u001B[43m \u001B[49m\u001B[43mlazy\u001B[49m\u001B[38;5;241;43m=\u001B[39;49m\u001B[38;5;28;43;01mFalse\u001B[39;49;00m\u001B[43m)\u001B[49m\n\u001B[1;32m    307\u001B[0m \u001B[38;5;28;01mif\u001B[39;00m \u001B[38;5;28mself\u001B[39m\u001B[38;5;241m.\u001B[39m_bounds_transformer \u001B[38;5;129;01mand\u001B[39;00m iteration \u001B[38;5;241m>\u001B[39m \u001B[38;5;241m0\u001B[39m:\n\u001B[1;32m    308\u001B[0m     \u001B[38;5;66;03m# The bounds transformer should only modify the bounds after\u001B[39;00m\n\u001B[1;32m    309\u001B[0m     \u001B[38;5;66;03m# the init_points points (only for the true iterations)\u001B[39;00m\n\u001B[1;32m    310\u001B[0m     \u001B[38;5;28mself\u001B[39m\u001B[38;5;241m.\u001B[39mset_bounds(\n\u001B[1;32m    311\u001B[0m         \u001B[38;5;28mself\u001B[39m\u001B[38;5;241m.\u001B[39m_bounds_transformer\u001B[38;5;241m.\u001B[39mtransform(\u001B[38;5;28mself\u001B[39m\u001B[38;5;241m.\u001B[39m_space))\n",
      "File \u001B[0;32m~/opt/miniconda3/envs/Bachelor-Thesis/lib/python3.10/site-packages/bayes_opt/bayesian_optimization.py:200\u001B[0m, in \u001B[0;36mBayesianOptimization.probe\u001B[0;34m(self, params, lazy)\u001B[0m\n\u001B[1;32m    198\u001B[0m     \u001B[38;5;28mself\u001B[39m\u001B[38;5;241m.\u001B[39m_queue\u001B[38;5;241m.\u001B[39madd(params)\n\u001B[1;32m    199\u001B[0m \u001B[38;5;28;01melse\u001B[39;00m:\n\u001B[0;32m--> 200\u001B[0m     \u001B[38;5;28;43mself\u001B[39;49m\u001B[38;5;241;43m.\u001B[39;49m\u001B[43m_space\u001B[49m\u001B[38;5;241;43m.\u001B[39;49m\u001B[43mprobe\u001B[49m\u001B[43m(\u001B[49m\u001B[43mparams\u001B[49m\u001B[43m)\u001B[49m\n\u001B[1;32m    201\u001B[0m     \u001B[38;5;28mself\u001B[39m\u001B[38;5;241m.\u001B[39mdispatch(Events\u001B[38;5;241m.\u001B[39mOPTIMIZATION_STEP)\n",
      "File \u001B[0;32m~/opt/miniconda3/envs/Bachelor-Thesis/lib/python3.10/site-packages/bayes_opt/target_space.py:194\u001B[0m, in \u001B[0;36mTargetSpace.probe\u001B[0;34m(self, params)\u001B[0m\n\u001B[1;32m    192\u001B[0m \u001B[38;5;28;01mexcept\u001B[39;00m \u001B[38;5;167;01mKeyError\u001B[39;00m:\n\u001B[1;32m    193\u001B[0m     params \u001B[38;5;241m=\u001B[39m \u001B[38;5;28mdict\u001B[39m(\u001B[38;5;28mzip\u001B[39m(\u001B[38;5;28mself\u001B[39m\u001B[38;5;241m.\u001B[39m_keys, x))\n\u001B[0;32m--> 194\u001B[0m     target \u001B[38;5;241m=\u001B[39m \u001B[38;5;28;43mself\u001B[39;49m\u001B[38;5;241;43m.\u001B[39;49m\u001B[43mtarget_func\u001B[49m\u001B[43m(\u001B[49m\u001B[38;5;241;43m*\u001B[39;49m\u001B[38;5;241;43m*\u001B[39;49m\u001B[43mparams\u001B[49m\u001B[43m)\u001B[49m\n\u001B[1;32m    195\u001B[0m     \u001B[38;5;28mself\u001B[39m\u001B[38;5;241m.\u001B[39mregister(x, target)\n\u001B[1;32m    196\u001B[0m \u001B[38;5;28;01mreturn\u001B[39;00m target\n",
      "Input \u001B[0;32mIn [11]\u001B[0m, in \u001B[0;36mobjective_function\u001B[0;34m(W_in_scale, b_scale, spectral_radius, weights)\u001B[0m\n\u001B[1;32m     10\u001B[0m \u001B[38;5;28;01mdef\u001B[39;00m \u001B[38;5;21mobjective_function\u001B[39m(W_in_scale,\n\u001B[1;32m     11\u001B[0m                        b_scale,\n\u001B[1;32m     12\u001B[0m                        spectral_radius,\n\u001B[1;32m     13\u001B[0m                        weights):\n\u001B[1;32m     15\u001B[0m     model \u001B[38;5;241m=\u001B[39m Classifier(W_in_scale,\n\u001B[1;32m     16\u001B[0m                  b_scale,\n\u001B[1;32m     17\u001B[0m                  spectral_radius,\n\u001B[1;32m     18\u001B[0m                  weights)\n\u001B[0;32m---> 19\u001B[0m     \u001B[43mmodel\u001B[49m\u001B[38;5;241;43m.\u001B[39;49m\u001B[43mfit\u001B[49m\u001B[43m(\u001B[49m\u001B[43mX_train\u001B[49m\u001B[43m,\u001B[49m\u001B[43m \u001B[49m\u001B[43my_train\u001B[49m\u001B[43m,\u001B[49m\u001B[43m \u001B[49m\u001B[38;5;241;43m*\u001B[39;49m\u001B[38;5;241;43m*\u001B[39;49m\u001B[43m{\u001B[49m\n\u001B[1;32m     20\u001B[0m \u001B[43m        \u001B[49m\u001B[38;5;124;43m\"\u001B[39;49m\u001B[38;5;124;43mn_mels\u001B[39;49m\u001B[38;5;124;43m\"\u001B[39;49m\u001B[43m:\u001B[49m\u001B[43m \u001B[49m\u001B[43mn_mels\u001B[49m\u001B[43m,\u001B[49m\n\u001B[1;32m     21\u001B[0m \u001B[43m        \u001B[49m\u001B[38;5;124;43m\"\u001B[39;49m\u001B[38;5;124;43mXorZ\u001B[39;49m\u001B[38;5;124;43m\"\u001B[39;49m\u001B[43m:\u001B[49m\u001B[43m \u001B[49m\u001B[38;5;124;43m\"\u001B[39;49m\u001B[38;5;124;43mX\u001B[39;49m\u001B[38;5;124;43m\"\u001B[39;49m\u001B[43m,\u001B[49m\n\u001B[1;32m     22\u001B[0m \u001B[43m        \u001B[49m\u001B[38;5;124;43m\"\u001B[39;49m\u001B[38;5;124;43mN\u001B[39;49m\u001B[38;5;124;43m\"\u001B[39;49m\u001B[43m:\u001B[49m\u001B[43m \u001B[49m\u001B[38;5;241;43m100\u001B[39;49m\n\u001B[1;32m     23\u001B[0m \u001B[43m    \u001B[49m\u001B[43m}\u001B[49m\u001B[43m)\u001B[49m\n\u001B[1;32m     24\u001B[0m     \u001B[38;5;28;01mreturn\u001B[39;00m model\u001B[38;5;241m.\u001B[39mscore(X_test, y_test)\n",
      "File \u001B[0;32m~/Documents/Work/bsc ai/bt/Bachelor-Thesis/code/experiments/exp1_classification/classifier.py:34\u001B[0m, in \u001B[0;36mClassifier.fit\u001B[0;34m(self, X, y, **params)\u001B[0m\n\u001B[1;32m     32\u001B[0m \u001B[38;5;28mself\u001B[39m\u001B[38;5;241m.\u001B[39mXorZ \u001B[38;5;241m=\u001B[39m params[\u001B[38;5;124m\"\u001B[39m\u001B[38;5;124mXorZ\u001B[39m\u001B[38;5;124m\"\u001B[39m]\n\u001B[1;32m     33\u001B[0m \u001B[38;5;28mself\u001B[39m\u001B[38;5;241m.\u001B[39mN \u001B[38;5;241m=\u001B[39m params[\u001B[38;5;124m\"\u001B[39m\u001B[38;5;124mN\u001B[39m\u001B[38;5;124m\"\u001B[39m]\n\u001B[0;32m---> 34\u001B[0m \u001B[38;5;28mself\u001B[39m\u001B[38;5;241m.\u001B[39mcache \u001B[38;5;241m=\u001B[39m \u001B[43mparams\u001B[49m\u001B[43m[\u001B[49m\u001B[38;5;124;43m\"\u001B[39;49m\u001B[38;5;124;43mcache\u001B[39;49m\u001B[38;5;124;43m\"\u001B[39;49m\u001B[43m]\u001B[49m\n\u001B[1;32m     36\u001B[0m \u001B[38;5;66;03m# Group data by class\u001B[39;00m\n\u001B[1;32m     37\u001B[0m group \u001B[38;5;241m=\u001B[39m group_by_labels(X, y)\n",
      "\u001B[0;31mKeyError\u001B[0m: 'cache'"
     ]
    }
   ],
   "source": [
    "from sklearn.model_selection import train_test_split\n",
    "from bayes_opt import BayesianOptimization\n",
    "\n",
    "X_train, X_test, y_train, y_test = train_test_split(features_train,\n",
    "                                                    labels_train,\n",
    "                                                    stratify = labels_train,\n",
    "                                                    random_state = 1)\n",
    "\n",
    "# Bayesian Optimization wrapper\n",
    "def objective_function(W_in_scale,\n",
    "                       b_scale,\n",
    "                       spectral_radius,\n",
    "                       weights):\n",
    "\n",
    "    model = Classifier(W_in_scale,\n",
    "                 b_scale,\n",
    "                 spectral_radius,\n",
    "                 weights)\n",
    "    model.fit(X_train, y_train, **{\n",
    "        \"n_mels\": n_mels,\n",
    "        \"XorZ\": \"X\",\n",
    "        \"N\": 100\n",
    "    })\n",
    "    return model.score(X_test, y_test)\n",
    "\n",
    "\n",
    "parameters = {\n",
    "    'W_in_scale': [.01, 2],\n",
    "    'spectral_radius': [0.01, 4],\n",
    "    'b_scale': [0, 2],\n",
    "    'weights': [.01,1]\n",
    "}\n",
    "\n",
    "# Bayesian optimization of the objective function.\n",
    "optimizer = BayesianOptimization(f = objective_function,\n",
    "                                 pbounds = parameters,\n",
    "                                 random_state = 0)\n",
    "optimizer.maximize(init_points = 10, n_iter = 100)\n",
    "\n",
    "best_params = optimizer.max['params']\n",
    "print(f\"Best parmaters: {best_params}; f(x) = {optimizer.max['target']}.\")\n",
    "\n",
    "\n",
    "# Scikitlearn\n",
    "#opt = Classifier()\n",
    "#opt = BayesSearchCV(Classifier(), parameters, n_iter=50, cv=3)\n",
    "#opt.fit(features, labels, **{\n",
    "#   \"in_dim\":n_mels,\n",
    "#   \"out_dim\":n_mels\n",
    "#})\n",
    "#print(opt.score(fv, lv))\n",
    "#print(opt.best_params_)"
   ],
   "metadata": {
    "collapsed": false
   }
  },
  {
   "cell_type": "markdown",
   "source": [
    "Plot the tuning progress"
   ],
   "metadata": {
    "collapsed": false
   }
  },
  {
   "cell_type": "code",
   "execution_count": null,
   "outputs": [],
   "source": [
    "plt.rcParams['text.usetex'] = True\n",
    "_, ax1 = plt.subplots(figsize = (15, 5))\n",
    "\n",
    "ax2 = ax1.twinx()\n",
    "\n",
    "# Scores:\n",
    "ax1.plot(range(1, 1 + len(optimizer.space.target)), optimizer.space.target, color='r', label=\"Accuracy - $f(\\\\rho$, $k_{W^in}$, $k_b$, $r$)\")\n",
    "\n",
    "# Parameters\n",
    "W_in_scale = []\n",
    "b_scale = []\n",
    "spectral_radius = []\n",
    "weights = []\n",
    "\n",
    "for res in optimizer.res:\n",
    "    W_in_scale.append(res[\"params\"][\"W_in_scale\"])\n",
    "    b_scale.append(res[\"params\"][\"b_scale\"])\n",
    "    spectral_radius.append(res[\"params\"][\"spectral_radius\"])\n",
    "    weights.append(res[\"params\"][\"weights\"])\n",
    "\n",
    "if True:\n",
    "    ax1.plot(range(1, 1 + len(optimizer.space.target)), W_in_scale, \"--\", label=\"$W^{in}$\")\n",
    "    ax1.plot(range(1, 1 + len(optimizer.space.target)), b_scale, \"--\", label=\"$k_b$\")\n",
    "    ax1.plot(range(1, 1 + len(optimizer.space.target)), spectral_radius, \"--\", label=\"$r$\")\n",
    "    ax1.plot(range(1, 1 + len(optimizer.space.target)), weights, \"--\", label=\"$\\\\rho$\")\n",
    "\n",
    "ax1.set_xlabel('Iteration', fontsize = 20)\n",
    "ax1.set_ylabel('Accuracy', color=\"r\", fontsize = 20)\n",
    "ax2.set_ylabel('Hyperparameter value', fontsize = 20)\n",
    "\n",
    "ax1.legend(loc=\"upper left\", fontsize = 20)\n",
    "fig.show()"
   ],
   "metadata": {
    "collapsed": false
   }
  }
 ],
 "metadata": {
  "kernelspec": {
   "display_name": "Python 3 (ipykernel)",
   "language": "python",
   "name": "python3"
  },
  "language_info": {
   "codemirror_mode": {
    "name": "ipython",
    "version": 3
   },
   "file_extension": ".py",
   "mimetype": "text/x-python",
   "name": "python",
   "nbconvert_exporter": "python",
   "pygments_lexer": "ipython3",
   "version": "3.10.5"
  },
  "vscode": {
   "interpreter": {
    "hash": "31f2aee4e71d21fbe5cf8b01ff0e069b9275f58929596ceb00d14d90e3e16cd6"
   }
  }
 },
 "nbformat": 4,
 "nbformat_minor": 5
}
