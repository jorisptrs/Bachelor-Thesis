{
 "cells": [
  {
   "cell_type": "markdown",
   "id": "60b2514c",
   "metadata": {},
   "source": [
    "# Classification"
   ]
  },
  {
   "cell_type": "markdown",
   "id": "c55fb8b6",
   "metadata": {},
   "source": [
    "Import libraries and helpers"
   ]
  },
  {
   "cell_type": "code",
   "execution_count": 1,
   "outputs": [],
   "source": [
    "import os, sys\n",
    "\n",
    "directory = os.path.abspath('/Users/joris/Documents/Work/bsc ai/bt/Bachelor-Thesis/code')\n",
    "sys.path.append(directory)\n",
    "\n",
    "from classifier import Classifier\n",
    "from env_variables import *\n",
    "from dataset.loading import DataLoader\n",
    "\n",
    "import numpy as np\n",
    "import random\n",
    "import warnings\n",
    "from matplotlib import pyplot as plt\n",
    "\n",
    "random.seed(0)\n",
    "np.random.seed(0)\n",
    "warnings.filterwarnings(\"ignore\")"
   ],
   "metadata": {
    "collapsed": false
   }
  },
  {
   "cell_type": "markdown",
   "source": [
    "#### Data\n",
    "Collect the complete TIMIT training dataset. The data are pre-processed into 10 steps long 14-mffc signals with 39 phoneme labels/classes."
   ],
   "metadata": {
    "collapsed": false
   }
  },
  {
   "cell_type": "code",
   "execution_count": 2,
   "id": "74e86d3e",
   "metadata": {},
   "outputs": [
    {
     "name": "stdout",
     "output_type": "stream",
     "text": [
      "-from output\n",
      "---- success\n"
     ]
    }
   ],
   "source": [
    "data_path = '../../../'\n",
    "cache_dir = '../../cache/'\n",
    "dl = DataLoader(data_path, cache_dir)\n",
    "\n",
    "dr = []\n",
    "speakers = []\n",
    "long_version = False\n",
    "n_mels = 14\n",
    "delta = False\n",
    "delta_delta = False\n",
    "subsamples = 10\n",
    "\n",
    "path_option = \"Final\"+str(long_version)+str(n_mels)+str(delta)+str(delta_delta)+str(subsamples)\n",
    "\n",
    "if dr:\n",
    "    path_option = str(dr)+path_option\n",
    "if len(speakers):\n",
    "    path_option = str(len(speakers))+path_option\n",
    "\n",
    "features_train, labels_train, _ = dl.collectFeaturesInSegments(\n",
    "    n_mels=n_mels, delta=delta, delta_delta=delta_delta,\n",
    "    long_version=long_version, speakers=speakers, dr=dr,\n",
    "    subsamples=subsamples, path_option=path_option)"
   ]
  },
  {
   "cell_type": "markdown",
   "id": "11cebfd6",
   "metadata": {},
   "source": [
    "Regroup data and label arrays into a phoneme-keyed dictionary."
   ]
  },
  {
   "cell_type": "code",
   "execution_count": 3,
   "id": "6d56f220",
   "metadata": {},
   "outputs": [
    {
     "name": "stdout",
     "output_type": "stream",
     "text": [
      "Filtered to 177080 samples of shape (10, 14)\n"
     ]
    }
   ],
   "source": [
    "from dataset.data_processing import *\n",
    "\n",
    "phonemes, features_train, labels_train = filter_data(features_train, labels_train, limit=None)"
   ]
  },
  {
   "cell_type": "markdown",
   "id": "390a2ec9",
   "metadata": {},
   "source": [
    "### Classification\n",
    "Largely following the method presented by Jaeger (2014).\n",
    "The ESN parameters were chosen by hand."
   ]
  },
  {
   "cell_type": "markdown",
   "source": [
    "#### 1. Training"
   ],
   "metadata": {
    "collapsed": false
   }
  },
  {
   "cell_type": "code",
   "execution_count": 4,
   "outputs": [
    {
     "name": "stdout",
     "output_type": "stream",
     "text": [
      "Number of samples: 177080\n",
      "- computing conceptors\n",
      "optimizing\n",
      "Computing gammas...\n",
      "Optimal gamma:  133.98790296460453\n",
      "normalizing\n",
      "Target:  56.856327438876015\n",
      "std 1.3689317677059387\n",
      "- computing negative conceptors\n"
     ]
    }
   ],
   "source": [
    "clas = Classifier(W_in_scale=1.1,\n",
    "                 b_scale=.6,\n",
    "                 spectral_radius=2.57,\n",
    "                 weights=.1)\n",
    "\n",
    "_ = clas.fit(features_train, labels_train, **{\n",
    "    \"n_mels\": n_mels,\n",
    "    \"XorZ\": \"X\",\n",
    "    \"N\": 100,\n",
    "    \"cache\": False\n",
    "})"
   ],
   "metadata": {
    "collapsed": false
   }
  },
  {
   "cell_type": "markdown",
   "source": [
    "#### 2. Testing\n",
    "Load data"
   ],
   "metadata": {
    "collapsed": false
   }
  },
  {
   "cell_type": "code",
   "execution_count": 5,
   "outputs": [
    {
     "name": "stdout",
     "output_type": "stream",
     "text": [
      "-from output\n",
      "---- success\n",
      "Filtered to 64145 samples of shape (10, 14)\n"
     ]
    }
   ],
   "source": [
    "features_test, labels_test, _ = dl.collectFeaturesInSegments(\n",
    "    ft='Test',n_mels=n_mels,delta=delta,delta_delta=delta_delta,\n",
    "    long_version=long_version,speakers=[],dr=dr,sentence=[],\n",
    "    subsamples=subsamples,path_option=path_option+\"_test\")\n",
    "\n",
    "_, features_test, labels_test = filter_data(features_test, labels_test, limit=None)"
   ],
   "metadata": {
    "collapsed": false
   }
  },
  {
   "cell_type": "markdown",
   "source": [
    "Test"
   ],
   "metadata": {
    "collapsed": false
   }
  },
  {
   "cell_type": "code",
   "execution_count": 6,
   "outputs": [
    {
     "name": "stdout",
     "output_type": "stream",
     "text": [
      "Training Accuracy of x : 0.561638807318726\n",
      "Test Accuracy of x     : 0.5604022137345077\n"
     ]
    }
   ],
   "source": [
    "print(f'Training Accuracy of x : {clas.score(features_train, labels_train)}')\n",
    "print(f'Test Accuracy of x     : {clas.score(features_test, labels_test)}')"
   ],
   "metadata": {
    "collapsed": false
   }
  },
  {
   "cell_type": "markdown",
   "source": [
    "Construct a Confusion Matrix to distinguish between classes"
   ],
   "metadata": {
    "collapsed": false
   }
  },
  {
   "cell_type": "code",
   "execution_count": 7,
   "outputs": [],
   "source": [
    "labels_pred = clas.predict(features_test)"
   ],
   "metadata": {
    "collapsed": false
   }
  },
  {
   "cell_type": "code",
   "execution_count": 8,
   "outputs": [
    {
     "data": {
      "text/plain": "<sklearn.metrics._plot.confusion_matrix.ConfusionMatrixDisplay at 0x103466b00>"
     },
     "execution_count": 8,
     "metadata": {},
     "output_type": "execute_result"
    },
    {
     "data": {
      "text/plain": "<Figure size 1008x828 with 2 Axes>",
      "image/png": "[encoded data removed]"
     },
     "metadata": {
      "needs_background": "light"
     },
     "output_type": "display_data"
    }
   ],
   "source": [
    "from sklearn.metrics import confusion_matrix, ConfusionMatrixDisplay\n",
    "\n",
    "phonemes_in_order = ['ah', 'uw', 'sh', 'iy', 'ih', 'eh', 'ae', 'aa', 'ey', 'ay', 'er', 'ow', 'oy', 'aw', 'uh',\n",
    "               'l', 'r', 'w', 'y', 'hh', 'h#',\n",
    "               'm', 'n', 'ng',\n",
    "               's', 'z', 'f', 'v', 'th', 'dh',\n",
    "               'jh', 'ch',\n",
    "               'b', 'd', 'g', 'k', 'p', 't', 'dx']\n",
    "\n",
    "\n",
    "cm = confusion_matrix(labels_test, labels_pred, labels=phonemes_in_order, normalize='true')\n",
    "disp = ConfusionMatrixDisplay(cm, display_labels=phonemes_in_order)\n",
    "fig, ax = plt.subplots(figsize=(14,11.5))\n",
    "ax.set_xlabel(\"\", fontsize = default_font_size)\n",
    "ax.set_ylabel(\"\", fontsize = default_font_size)\n",
    "disp.plot(ax=ax, include_values=False)"
   ],
   "metadata": {
    "collapsed": false
   }
  },
  {
   "cell_type": "markdown",
   "source": [
    "## Extras\n",
    "\n",
    "#### Z-Classification: Including the input signals into the conceptors"
   ],
   "metadata": {
    "collapsed": false
   }
  },
  {
   "cell_type": "code",
   "execution_count": null,
   "outputs": [
    {
     "name": "stdout",
     "output_type": "stream",
     "text": [
      "Number of samples: 177080\n",
      "- computing conceptors\n",
      "optimizing\n",
      "Computing gammas...\n",
      "Optimal gamma:  477.34873516437597\n",
      "normalizing\n",
      "Target:  228.93113558697223\n",
      "std 12.886582665462866\n",
      "- computing negative conceptors\n"
     ]
    }
   ],
   "source": [
    "clas2 = Classifier(1.5, .2, 1.5, .1) # Z optimal params\n",
    "\n",
    "clas2.fit(features_train, labels_train, **{\n",
    "    \"n_mels\":n_mels,\n",
    "    \"XorZ\":\"Z\",\n",
    "    \"N\":40,\n",
    "    \"cache\":True\n",
    "})\n",
    "\n",
    "print(f'Training Accuracy of z : {clas2.score(features_train, labels_train)}')\n",
    "print(f'Test Accuracy of z     : {clas2.score(features_test, labels_test)}')"
   ],
   "metadata": {
    "collapsed": false,
    "pycharm": {
     "is_executing": true
    }
   }
  },
  {
   "cell_type": "markdown",
   "source": [
    "#### Bayesian Hyperparameter Tuning\n",
    "Running this is only feasible with small ESNs (<40 neurons)."
   ],
   "metadata": {
    "collapsed": false
   }
  },
  {
   "cell_type": "code",
   "execution_count": null,
   "outputs": [],
   "source": [
    "from sklearn.model_selection import train_test_split\n",
    "from bayes_opt import BayesianOptimization\n",
    "\n",
    "X_train, X_test, y_train, y_test = train_test_split(features_train,\n",
    "                                                    labels_train,\n",
    "                                                    stratify = labels_train,\n",
    "                                                    random_state = 1)\n",
    "\n",
    "# Bayesian Optimization wrapper\n",
    "def objective_function(W_in_scale,\n",
    "                       b_scale,\n",
    "                       spectral_radius,\n",
    "                       weights):\n",
    "\n",
    "    model = Classifier(W_in_scale,\n",
    "                 b_scale,\n",
    "                 spectral_radius,\n",
    "                 weights)\n",
    "    model.fit(X_train, y_train, **{\n",
    "        \"n_mels\": n_mels,\n",
    "        \"XorZ\": \"X\",\n",
    "        \"N\": 100\n",
    "    })\n",
    "    return model.score(X_test, y_test)\n",
    "\n",
    "\n",
    "parameters = {\n",
    "    'W_in_scale': [.01, 2],\n",
    "    'spectral_radius': [0.01, 4],\n",
    "    'b_scale': [0, 2],\n",
    "    'weights': [.01,1]\n",
    "}\n",
    "\n",
    "# Bayesian optimization of the objective function.\n",
    "optimizer = BayesianOptimization(f = objective_function,\n",
    "                                 pbounds = parameters,\n",
    "                                 random_state = 0)\n",
    "optimizer.maximize(init_points = 10, n_iter = 100)\n",
    "\n",
    "best_params = optimizer.max['params']\n",
    "print(f\"Best parmaters: {best_params}; f(x) = {optimizer.max['target']}.\")\n",
    "\n",
    "\n",
    "# Scikitlearn\n",
    "#opt = Classifier()\n",
    "#opt = BayesSearchCV(Classifier(), parameters, n_iter=50, cv=3)\n",
    "#opt.fit(features, labels, **{\n",
    "#   \"in_dim\":n_mels,\n",
    "#   \"out_dim\":n_mels\n",
    "#})\n",
    "#print(opt.score(fv, lv))\n",
    "#print(opt.best_params_)"
   ],
   "metadata": {
    "collapsed": false,
    "pycharm": {
     "is_executing": true
    }
   }
  },
  {
   "cell_type": "markdown",
   "source": [
    "Plot the tuning progress"
   ],
   "metadata": {
    "collapsed": false
   }
  },
  {
   "cell_type": "code",
   "execution_count": null,
   "outputs": [],
   "source": [
    "plt.rcParams['text.usetex'] = True\n",
    "_, ax1 = plt.subplots(figsize = (15, 5))\n",
    "\n",
    "ax2 = ax1.twinx()\n",
    "\n",
    "# Scores:\n",
    "ax1.plot(range(1, 1 + len(optimizer.space.target)), optimizer.space.target, color='r', label=\"Accuracy - $f(\\\\rho$, $k_{W^in}$, $k_b$, $r$)\")\n",
    "\n",
    "# Parameters\n",
    "W_in_scale = []\n",
    "b_scale = []\n",
    "spectral_radius = []\n",
    "weights = []\n",
    "\n",
    "for res in optimizer.res:\n",
    "    W_in_scale.append(res[\"params\"][\"W_in_scale\"])\n",
    "    b_scale.append(res[\"params\"][\"b_scale\"])\n",
    "    spectral_radius.append(res[\"params\"][\"spectral_radius\"])\n",
    "    weights.append(res[\"params\"][\"weights\"])\n",
    "\n",
    "if True:\n",
    "    ax1.plot(range(1, 1 + len(optimizer.space.target)), W_in_scale, \"--\", label=\"$W^{in}$\")\n",
    "    ax1.plot(range(1, 1 + len(optimizer.space.target)), b_scale, \"--\", label=\"$k_b$\")\n",
    "    ax1.plot(range(1, 1 + len(optimizer.space.target)), spectral_radius, \"--\", label=\"$r$\")\n",
    "    ax1.plot(range(1, 1 + len(optimizer.space.target)), weights, \"--\", label=\"$\\\\rho$\")\n",
    "\n",
    "ax1.set_xlabel('Iteration', fontsize = 20)\n",
    "ax1.set_ylabel('Accuracy', color=\"r\", fontsize = 20)\n",
    "ax2.set_ylabel('Hyperparameter value', fontsize = 20)\n",
    "\n",
    "ax1.legend(loc=\"upper left\", fontsize = 20)\n",
    "fig.show()"
   ],
   "metadata": {
    "collapsed": false,
    "pycharm": {
     "is_executing": true
    }
   }
  }
 ],
 "metadata": {
  "kernelspec": {
   "display_name": "Python 3 (ipykernel)",
   "language": "python",
   "name": "python3"
  },
  "language_info": {
   "codemirror_mode": {
    "name": "ipython",
    "version": 3
   },
   "file_extension": ".py",
   "mimetype": "text/x-python",
   "name": "python",
   "nbconvert_exporter": "python",
   "pygments_lexer": "ipython3",
   "version": "3.10.5"
  },
  "vscode": {
   "interpreter": {
    "hash": "31f2aee4e71d21fbe5cf8b01ff0e069b9275f58929596ceb00d14d90e3e16cd6"
   }
  }
 },
 "nbformat": 4,
 "nbformat_minor": 5
}
