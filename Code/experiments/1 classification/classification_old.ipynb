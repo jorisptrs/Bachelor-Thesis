{
 "cells": [
  {
   "cell_type": "markdown",
   "source": [
    "# Optimization"
   ],
   "metadata": {
    "collapsed": false
   }
  },
  {
   "cell_type": "markdown",
   "source": [
    "### Collect training features"
   ],
   "metadata": {
    "collapsed": false
   }
  },
  {
   "cell_type": "code",
   "execution_count": 11,
   "id": "74e86d3e",
   "metadata": {},
   "outputs": [
    {
     "name": "stdout",
     "output_type": "stream",
     "text": [
      "starting\n",
      "-from output\n",
      "---- success\n",
      "Loaded to 177080 samples of shape (10, 13)\n"
     ]
    },
    {
     "data": {
      "text/plain": "541"
     },
     "execution_count": 11,
     "metadata": {},
     "output_type": "execute_result"
    }
   ],
   "source": [
    "import gc\n",
    "import numpy as np\n",
    "np.random.seed(0)\n",
    "import random\n",
    "random.seed(0)\n",
    "import os, sys\n",
    "\n",
    "directory = os.path.abspath('/Users/joris/Documents/Work/bsc ai/thesis/bachelor-thesis/code/')\n",
    "sys.path.append(directory)\n",
    "\n",
    "from data.loading import DataLoader\n",
    "from lib.conceptors import *\n",
    "from lib.esn import ESN\n",
    "from lib.helpers import *\n",
    "from skopt import BayesSearchCV\n",
    "from skopt.space import Integer, Real, Categorical\n",
    "\n",
    "import warnings\n",
    "warnings.filterwarnings(\"ignore\")\n",
    "\n",
    "XorZ = \"X\"\n",
    "#method = \"centroids\"\n",
    "#method = \"sims\"\n",
    "method = \"pred\"\n",
    "#method = \"ogsignals\"\n",
    "\n",
    "print(\"starting\")\n",
    "\n",
    "path = '../../data/'\n",
    "fc = DataLoader(path)\n",
    "\n",
    "dr = []\n",
    "speakers = []\n",
    "\n",
    "long_version = False\n",
    "n_mels = 14\n",
    "delta = False\n",
    "delta_delta = False\n",
    "subsamples = 10\n",
    "\n",
    "path_option = \"Final\"+str(long_version)+str(n_mels)+str(delta)+str(delta_delta)+str(subsamples)\n",
    "\n",
    "if dr:\n",
    "    path_option = str(dr)+\"_\"+path_option\n",
    "if len(speakers):\n",
    "    path_option = str(speakers[0])+\"_\"+path_option\n",
    "\n",
    "features,labels,_ = fc.collectFeaturesInSegments(\n",
    "    n_mels=n_mels,delta=delta,delta_delta=delta_delta,\n",
    "    long_version=long_version,speakers=speakers,dr=dr,\n",
    "    subsamples=subsamples,path_option=path_option)\n",
    "\n",
    "print(f\"Loaded to {len(features)} samples of shape {features[0].shape}\")\n",
    "\n",
    "gc.collect()"
   ]
  },
  {
   "cell_type": "markdown",
   "id": "11cebfd6",
   "metadata": {},
   "source": [
    "### Regroup data and subset phonemes"
   ]
  },
  {
   "cell_type": "code",
   "execution_count": 12,
   "id": "6d56f220",
   "metadata": {},
   "outputs": [
    {
     "name": "stdout",
     "output_type": "stream",
     "text": [
      "Filtered to 177080 samples of shape (10, 13)\n"
     ]
    }
   ],
   "source": [
    "def filter_data(features, labels, classes=None,trunkate=False,limit=1000000):\n",
    "    group = {}\n",
    "\n",
    "    for i in range(len(labels)):\n",
    "        if classes != None and labels[i] not in classes:\n",
    "            continue\n",
    "        if labels[i] not in group.keys():\n",
    "            group[labels[i]] = []\n",
    "        if len(group[labels[i]]) < limit:\n",
    "            group[labels[i]].append(features[i])\n",
    "\n",
    "    samples_per_phoneme = min([ len(value) for value in group.values() ])\n",
    "    if trunkate:\n",
    "        for key in group.keys():\n",
    "            group[key] = random.sample(group[key], samples_per_phoneme)\n",
    "\n",
    "    classes = list(group.keys())\n",
    "    filtered_labels = []\n",
    "    filtered_features = []\n",
    "    for label, features in group.items():\n",
    "        for feature in features:\n",
    "            filtered_features.append(feature)\n",
    "            filtered_labels.append(label)\n",
    "    return classes, filtered_features, filtered_labels\n",
    "\n",
    "classes, features, labels = filter_data(features, labels, classes=None, trunkate=False, limit=1000000)\n",
    "\n",
    "print(f\"Filtered to {len(features)} samples of shape {features[0].shape}\")"
   ]
  },
  {
   "cell_type": "markdown",
   "id": "390a2ec9",
   "metadata": {},
   "source": [
    "### Compute conceptors"
   ]
  },
  {
   "cell_type": "code",
   "execution_count": 13,
   "id": "7b268477",
   "metadata": {},
   "outputs": [],
   "source": [
    "def compute_Cs_and_Ns(group, esn, aperture):\n",
    "    Cs_clas = []\n",
    "    for phoneme, signals in group.items():\n",
    "        X = np.array([])\n",
    "        for signal in signals:\n",
    "            x = esn.run(signal.T, XorZ=XorZ)\n",
    "            X = np.hstack((X, x)) if X.size else x\n",
    "        Cs_clas.append(compute_c(X, aperture))\n",
    "    print(\"optimizing\")\n",
    "    Cs_clas = optimize_apertures(Cs_clas)\n",
    "    print(\"normalizing\")\n",
    "    Cs_clas = normalize_apertures(Cs_clas)\n",
    "    print(\"- computing negative conceptors\")\n",
    "    Ns_clas = Ns_from_Cs(Cs_clas)\n",
    "    #Ns_clas = optimize_apertures(Ns_clas)\n",
    "    #Ns_clas = normalize_apertures(Ns_clas)\n",
    "    return Cs_clas, Ns_clas\n",
    "\n",
    "def compute_X_centroids(group, esn):\n",
    "    centroids = []\n",
    "    for phoneme, signals in group.items():\n",
    "        reservoir_states = []\n",
    "        for signal in signals:\n",
    "            x = esn.run(signal.T, XorZ=XorZ)\n",
    "            reservoir_states.append(x)\n",
    "        reservoir_states = np.array(reservoir_states)\n",
    "        centroids.append(np.mean(reservoir_states,axis=0))\n",
    "    return centroids\n",
    "\n",
    "def original_signal_centroids(group):\n",
    "    centroids = []\n",
    "    for phoneme, signals in group.items():\n",
    "        signal_array = np.array(signals)\n",
    "        centroids.append(np.mean(signal_array,axis=0))\n",
    "    return centroids\n",
    "\n",
    "def d(x,y):\n",
    "    return np.linalg.norm(x-y)\n",
    "\n",
    "# only optimize Cs before : g=133.3 a=0.5516\n",
    "# optimize Cs and Ns after : g1=133.3 g2=.5 a=.\n",
    "# only normalize Cs before : \n",
    "# normalize Cs and Ns after : \n",
    "# normalize Cs and Ns before and after : \n",
    "# similarities : a=0.2543922127255461"
   ]
  },
  {
   "cell_type": "code",
   "execution_count": 14,
   "id": "70fbab4a",
   "metadata": {},
   "outputs": [],
   "source": [
    "from sklearn.base import BaseEstimator, ClassifierMixin\n",
    "\n",
    "class Classifier(BaseEstimator, ClassifierMixin):\n",
    "    def __init__(self, W_in_scale=1.1, spectral_radius=2.57, b_scale=.44, weights=.1):\n",
    "        self.W_in_scale = W_in_scale\n",
    "        self.spectral_radius = spectral_radius\n",
    "        self.b_scale = b_scale\n",
    "        self.weights = weights\n",
    "\n",
    "    def fit(self, X, y, **params):\n",
    "        # Store the classes seen during fit\n",
    "        self.X_ = X\n",
    "        self.y_ = y\n",
    "        \n",
    "        # Group data by class\n",
    "        group = {}\n",
    "        for i in range(len(y)):\n",
    "            if self.y_[i] not in group.keys():\n",
    "                group[self.y_[i]] = []\n",
    "            group[self.y_[i]].append(self.X_[i])\n",
    "        self.classes = list(group.keys())\n",
    "        samples_per_phoneme = min([ len(value) for value in group.values() ])\n",
    "        self.n_samples = sum([len(x) for x in list(group.values())])\n",
    "        print(\"Number of samples:\", self.n_samples)\n",
    "        print(self.classes)\n",
    "        \n",
    "        # Init Reservoir\n",
    "        esn_params = {\n",
    "            \"in_dim\": params[\"in_dim\"],\n",
    "            \"out_dim\": params[\"out_dim\"],\n",
    "            \"N\": 100,\n",
    "            \"W_in_scale\": self.W_in_scale,\n",
    "            \"b_scale\": self.b_scale,\n",
    "            \"spectral_radius\": self.spectral_radius,\n",
    "            \"weights\": self.weights\n",
    "        }\n",
    "\n",
    "        self.esn = ESN(esn_params)\n",
    "        if method == \"pred\" or method == \"sims\":\n",
    "            self.Cs_clas, self.Ns_clas = compute_Cs_and_Ns(group, esn=self.esn, aperture=1)\n",
    "        elif method == \"centroids\":\n",
    "            self.centroids = compute_X_centroids(group, esn=self.esn)\n",
    "        else:\n",
    "            self.centroids = original_signal_centroids(group)\n",
    "        # Return the classifier\n",
    "        return self\n",
    "\n",
    "    def predict(self, X):\n",
    "        y = []\n",
    "        for sample in X:\n",
    "            if method == \"sims\":\n",
    "                x = self.esn.run(sample.T, XorZ=XorZ)\n",
    "                C_loc = compute_c(x,aperture=133.3)\n",
    "                es = [ similarity_c(C,C_loc) for C in self.Cs_clas ]\n",
    "                es = [ np.sum(p) for p in es ]\n",
    "                y.append(self.classes[np.argmax(es)])\n",
    "            elif method == \"centroids\":\n",
    "                x = self.esn.run(sample.T, XorZ=XorZ)\n",
    "                es = [ d(x,centroid) for centroid in self.centroids ]\n",
    "                y.append(self.classes[np.argmin(es)])\n",
    "            elif method == \"ogsignals\":\n",
    "                es = [ d(sample,centroid) for centroid in self.centroids ]\n",
    "                y.append(self.classes[np.argmin(es)])\n",
    "            else:\n",
    "                x = self.esn.run(sample.T, XorZ=XorZ)\n",
    "                es = evidences_for_Cs(x,self.Cs_clas,self.Ns_clas)\n",
    "                if XorZ == \"X\":\n",
    "                    es = [ np.sum(p) for p in es ]\n",
    "                y.append(self.classes[np.argmax(es)])\n",
    "                \n",
    "        return y"
   ]
  },
  {
   "cell_type": "code",
   "execution_count": null,
   "id": "d29a0e0f",
   "metadata": {
    "pycharm": {
     "is_executing": true
    }
   },
   "outputs": [
    {
     "name": "stdout",
     "output_type": "stream",
     "text": [
      "Number of samples: 177080\n",
      "['h#', 'w', 'ih', 's', 'ah', 'ch', 'n', 'ae', 't', 'v', 'r', 'f', 'y', 'uw', 'sh', 'l', 'b', 'iy', 'aa', 'd', 'eh', 'p', 'z', 'ey', 'dx', 'ay', 'ng', 'k', 'dh', 'er', 'm', 'jh', 'g', 'ow', 'aw', 'hh', 'uh', 'oy', 'th']\n"
     ]
    }
   ],
   "source": [
    "parameters = {\n",
    "    'W_in_scale' : Real(0.05,2),\n",
    "    'spectral_radius' : Real(0.05,4),\n",
    "    'b_scale' : Real(0,2),\n",
    "    'weights' : Real(0.05,0.95)\n",
    "}\n",
    "\n",
    "#opt = Classifier()\n",
    "\n",
    "#opt = Classifier(1.5,1.5,.2,.1) # Z optimal params\n",
    "opt = Classifier(1.1,2.57,.44,.1) # X optimal params\n",
    "#opt = BayesSearchCV(Classifier(), parameters, n_iter=50, cv=3)\n",
    "opt.fit(features, labels, **{\n",
    "    \"in_dim\":n_mels,\n",
    "    \"out_dim\":n_mels\n",
    "})"
   ]
  },
  {
   "cell_type": "markdown",
   "id": "21e330ce",
   "metadata": {},
   "source": [
    "## Testing\n",
    "### Feature Collection"
   ]
  },
  {
   "cell_type": "code",
   "execution_count": null,
   "id": "59988fc8",
   "metadata": {
    "pycharm": {
     "is_executing": true
    }
   },
   "outputs": [],
   "source": [
    "print(\"Testing...\")\n",
    "\n",
    "fv, lv, _ = fc.collectFeaturesInSegments(\n",
    "    ft='Test',n_mels=n_mels,delta=delta,delta_delta=delta_delta,\n",
    "    long_version=long_version,speakers=[],dr=dr,sentence=[],\n",
    "    subsamples=subsamples,path_option=path_option+\"_test\")\n",
    "\n",
    "print(len(fv))\n",
    "classes, fv, lv = filter_data(fv, lv, classes=None,trunkate=True,limit=1000000)\n",
    "\n",
    "print(opt.score(fv, lv))\n",
    "#print(opt.best_params_)\n",
    "\n",
    "#with open('res.txt','x') as file:\n",
    "#    file.write(opt.score(fv,lv))\n",
    "#    file.write(opt.best_params_)"
   ]
  },
  {
   "cell_type": "markdown",
   "id": "3e1afa19",
   "metadata": {},
   "source": [
    "# Disjunction method"
   ]
  },
  {
   "cell_type": "code",
   "execution_count": 40,
   "id": "8e7f07c4",
   "metadata": {},
   "outputs": [],
   "source": [
    "def compute_Cs_and_Ns_below_phoneme(features, labels, esn, aperture):\n",
    "    all_Cs = []\n",
    "    Cs = {}\n",
    "    for signal, label in zip(features, labels):\n",
    "        x = esn.run(signal.T)\n",
    "        C = compute_c(x, aperture)\n",
    "        if label not in Cs.keys():\n",
    "            Cs[label] = C\n",
    "        else:\n",
    "            Cs[label] = OR_C(Cs[label], C)\n",
    "    #phonemes = list(Cs.keys())\n",
    "    Cs = list(Cs.values())\n",
    "    print(\"- optimizing +\")\n",
    "    Cs = optimize_apertures(Cs)\n",
    "    Cs = normalize_apertures(Cs)\n",
    "    print(\"- computing negative conceptors\")\n",
    "    Ns = Ns_from_Cs(Cs)\n",
    "    return Cs, Ns"
   ]
  }
 ],
 "metadata": {
  "kernelspec": {
   "display_name": "Python 3 (ipykernel)",
   "language": "python",
   "name": "python3"
  },
  "language_info": {
   "codemirror_mode": {
    "name": "ipython",
    "version": 3
   },
   "file_extension": ".py",
   "mimetype": "text/x-python",
   "name": "python",
   "nbconvert_exporter": "python",
   "pygments_lexer": "ipython3",
   "version": "3.10.5"
  },
  "vscode": {
   "interpreter": {
    "hash": "31f2aee4e71d21fbe5cf8b01ff0e069b9275f58929596ceb00d14d90e3e16cd6"
   }
  }
 },
 "nbformat": 4,
 "nbformat_minor": 5
}
