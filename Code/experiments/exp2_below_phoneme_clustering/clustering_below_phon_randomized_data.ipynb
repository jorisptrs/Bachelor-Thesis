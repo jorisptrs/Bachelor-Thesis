{
 "cells": [
  {
   "cell_type": "markdown",
   "id": "60b2514c",
   "metadata": {},
   "source": [
    "# Clustering: Below-Phoneme"
   ]
  },
  {
   "cell_type": "markdown",
   "id": "c6f28326",
   "metadata": {},
   "source": [
    "Import libraries and helpers"
   ]
  },
  {
   "cell_type": "code",
   "execution_count": 1,
   "outputs": [],
   "source": [
    "import os, sys\n",
    "\n",
    "from env_variables import default_font_size\n",
    "\n",
    "directory = os.path.abspath('/Users/joris/Documents/Work/bsc ai/bt/Bachelor-Thesis/code')\n",
    "sys.path.append(directory)\n",
    "\n",
    "from dataset.loading import DataLoader\n",
    "from lib.esn import ESN\n",
    "from lib.clustering.clustering_metrics import *\n",
    "from experiments.exp2_below_phoneme_clustering.gchc.gchc import GCHC\n",
    "from experiments.exp2_below_phoneme_clustering.gchc.method import *\n",
    "from experiments.helpers.experiment_helpers import *\n",
    "\n",
    "import numpy as np\n",
    "import random\n",
    "import warnings\n",
    "import pandas as pd\n",
    "\n",
    "np.random.seed(0)\n",
    "random.seed(0)\n",
    "warnings.filterwarnings(\"ignore\")"
   ],
   "metadata": {
    "collapsed": false
   }
  },
  {
   "cell_type": "markdown",
   "id": "c55fb8b6",
   "metadata": {},
   "source": [
    "#### Data\n",
    "Collect the training dataset.\n",
    "It is restricted to 50 speakers of equal male-female distributions and only contains \"SX\" (phonetically diverse) sentences. The data are pre-processed into 10 steps long 14-mffc signals with 39 phoneme labels."
   ]
  },
  {
   "cell_type": "code",
   "execution_count": null,
   "outputs": [
    {
     "name": "stdout",
     "output_type": "stream",
     "text": [
      "--- Failed\n",
      "Collecting Features from Audio Files\n",
      "2310\n",
      "0\n",
      "100\n",
      "200\n"
     ]
    }
   ],
   "source": [
    "save = True\n",
    "\n",
    "data_path = '../../../'\n",
    "cache_dir = '../../cache/'\n",
    "dl = DataLoader(data_path, cache_dir)\n",
    "\n",
    "sentence = \"SX\"\n",
    "XorZ = \"X\"\n",
    "long_version = False\n",
    "n_mels = 13\n",
    "delta = False\n",
    "delta_delta = False\n",
    "subsamples = 10\n",
    "dr = []\n",
    "speakers = []\n",
    "\n",
    "path_option = \"Final\"+str(long_version)+str(n_mels)+str(delta)+str(delta_delta)+str(subsamples)\n",
    "\n",
    "if dr:\n",
    "    path_option = str(dr)+path_option\n",
    "if len(speakers):\n",
    "    path_option = str(len(speakers))+path_option\n",
    "if sentence:\n",
    "    path_option = sentence+path_option\n",
    "\n",
    "features, labels, speakers_list, dr_list, _ = dl.collectFeaturesInSegments(\n",
    "    n_mels=n_mels,delta=delta,delta_delta=delta_delta,\n",
    "    long_version=long_version,speakers=speakers,dr=dr,\n",
    "    sentence=sentence,subsamples=subsamples,\n",
    "    path_option=path_option, include_speakers_and_regions=True)\n"
   ],
   "metadata": {
    "collapsed": false,
    "pycharm": {
     "is_executing": true
    }
   }
  },
  {
   "cell_type": "markdown",
   "id": "11cebfd6",
   "metadata": {},
   "source": [
    "Regroup data and label arrays into a phoneme-keyed dictionary. Then, select only a subset of the phonemes and randomly sample them down to an equal number samples per phoneme."
   ]
  },
  {
   "cell_type": "code",
   "execution_count": null,
   "id": "6d56f220",
   "metadata": {
    "pycharm": {
     "is_executing": true
    }
   },
   "outputs": [],
   "source": [
    "from dataset.data_processing import *\n",
    "\n",
    "def sample_speakers():\n",
    "    descriptions = dl.read_descriptions(\"Train\")\n",
    "    descriptions['gender'] = descriptions.speaker_id.str[0]\n",
    "    descriptions = descriptions.groupby(\"speaker_id\").first().reset_index() # Remove duplicate speakers\n",
    "    descriptions = descriptions.groupby([\"dialect_region\", \"gender\"]).sample(4, replace=False).reset_index() #get 4 Males and 4 Females from each dr\n",
    "    speakers = descriptions.speaker_id.values\n",
    "    return speakers\n",
    "\n",
    "def sample_labels(k=7):\n",
    "    candidate_labels = ['ch', 'jh', 'er', 'f', 'z', 'm', 'th', 'aw', 'ow', 'p', 'b', 'ay', 'dh', 'ae', 'uh', 't', 'r', 'y', 'k', 'ey', 'd', 'v', 'n', 'aa', 'w', 'ah', 'g', 'ih', 'dx', 'uw', 'eh', 'sh', 'oy', 'ng', 'iy', 's', 'hh', 'h#', 'l']\n",
    "    return random.sample(candidate_labels, k)"
   ]
  },
  {
   "cell_type": "markdown",
   "id": "819aacae",
   "metadata": {},
   "source": [
    "#### Experiments pre-steps\n",
    "Initialize the ESN with the parameters found in experiment 1."
   ]
  },
  {
   "cell_type": "code",
   "execution_count": null,
   "id": "9a08349a",
   "metadata": {
    "pycharm": {
     "is_executing": true
    }
   },
   "outputs": [],
   "source": [
    "XorZ = \"X\"\n",
    "\n",
    "esn_params = {\n",
    "    \"in_dim\": n_mels*(1+delta+delta_delta),\n",
    "    \"out_dim\": n_mels*(1+delta+delta_delta),\n",
    "    \"N\": 100,\n",
    "    \"W_in_scale\": 1.1,\n",
    "    \"b_scale\": .6,\n",
    "    \"spectral_radius\": 2.57,\n",
    "    \"weights\": .1\n",
    "}\n",
    "\n",
    "esn = ESN(esn_params)"
   ]
  },
  {
   "cell_type": "markdown",
   "source": [
    "#### Comparative Experiment"
   ],
   "metadata": {
    "collapsed": false
   }
  },
  {
   "cell_type": "code",
   "execution_count": null,
   "outputs": [],
   "source": [
    "n_classes=7\n",
    "samples_per_phoneme = 15\n",
    "\n",
    "def experiment(repetitions=2, data_repetitions=2, cluster_numbers=[n_classes]):\n",
    "    params = {\n",
    "        #\"method\":[],\n",
    "        \"method\" : [Method.SIGNALS_EUCLIDIAN, Method.STATE_EUCLIDIAN, Method.CONCEPTOR_PRED, Method.PRED_CENTROIDS],\n",
    "        #\"method\" : [Method.CONCEPTOR_PRED_CS_ONLY, Method.CONCEPTOR_PRED],\n",
    "        \"init_clusters\" : [\"smart\"]\n",
    "    }\n",
    "    results = []\n",
    "\n",
    "    nmi_baseline = []\n",
    "    nmi_truth = []\n",
    "    acc_baseline = []\n",
    "    acc_truth = []\n",
    "\n",
    "    for i in range(data_repetitions):\n",
    "        print(\"Data_rep \",i)\n",
    "        speakers = sample_speakers()\n",
    "        selected_labels = sample_labels(k=n_classes)\n",
    "\n",
    "        phonemes, features_train, labels_train, features_test, labels_test = filter_data_2(features, labels, selected_labels=selected_labels, limit=samples_per_phoneme, speakers = speakers_list, selected_speakers=speakers, test=True)\n",
    "        group = group_by_labels(features_train, labels_train, selected_labels=selected_labels)\n",
    "\n",
    "        correct_assignments = [ [] for _ in range(n_classes) ]\n",
    "        idx = 0\n",
    "        for i, phoneme in enumerate(group.keys()):\n",
    "            for _ in group[phoneme]:\n",
    "                correct_assignments[i].append(idx)\n",
    "                idx += 1\n",
    "\n",
    "        print(f\"{str(len(features_test))} test samples\")\n",
    "        print(f\"{str(n_classes)} phonemes: {phonemes}\")\n",
    "\n",
    "        esn_states = [ esn.run(feature.T, XorZ=XorZ) for feature in features_train ]\n",
    "        Cs = compute_Cs(signals=features_train, esn=esn, aperture=\"auto\", normalize=True, XorZ=XorZ, cache=False, file_identifier=path_option)\n",
    "        gchc_temp = GCHC(method=Method.SIGNALS_EUCLIDIAN, Cs=Cs, signals=features_train, esn_states=esn_states, XorZ=XorZ, target_sum=None)\n",
    "\n",
    "        centroids, clusters, ds_hist, cluster_hist, centroid_hist = gchc_temp.k_means(nb_clusters=n_classes, max_epochs=100, init_clusters=\"random\", save=False, debug=True)\n",
    "\n",
    "        correct_clusters = gchc_temp.assignment_to_cluster_repr(correct_assignments)\n",
    "        cpy = correct_clusters.copy()\n",
    "        random.shuffle(cpy)\n",
    "        nmi_truth.append(NMI(correct_assignments, correct_assignments))\n",
    "        acc_truth.append(clas_acc(cpy, correct_clusters, phonemes, features_test, labels_test))\n",
    "\n",
    "        clusters_random = gchc_temp.init_random(len(clusters))\n",
    "        assignments_random = gchc_temp.cluster_to_assignment_repr(clusters_random)\n",
    "        nmi_baseline.append(NMI(assignments_random, correct_assignments))\n",
    "        acc_baseline.append(clas_acc(clusters_random, correct_clusters, phonemes, features_test, labels_test))\n",
    "\n",
    "        for method in params[\"method\"]:\n",
    "            for init in params[\"init_clusters\"]:\n",
    "                for n_clusters in cluster_numbers:\n",
    "                    NMIs = []\n",
    "                    accs = []\n",
    "                    accs_init = []\n",
    "                    ds = []\n",
    "                    print(f\"Method: {method}, Cluster initialization: {init}, #clusters: {n_clusters}\")\n",
    "                    for _ in range(repetitions):\n",
    "                        gchc_loc = GCHC(method, Cs=Cs, signals=features_train, esn_states=esn_states, XorZ=XorZ, target_sum=None)\n",
    "                        centroids, clusters, ds_hist, cluster_hist,_ = gchc_loc.k_means(\n",
    "                            nb_clusters=n_clusters, max_epochs=100, init_clusters=init, save=False, debug=False\n",
    "                        )\n",
    "                        assignment_hist = [ gchc_loc.cluster_to_assignment_repr(cluster) for cluster in cluster_hist ]\n",
    "\n",
    "                        # Results\n",
    "                        NMIs.append(NMIs_from_list(assignment_hist, correct_assignments))\n",
    "                        accs.append(clas_acc(cluster_hist[-1], correct_clusters, phonemes, features_test, labels_test))\n",
    "                        accs_init.append(clas_acc(cluster_hist[0], correct_clusters, phonemes, features_test, labels_test))\n",
    "                        ds.append(gchc_loc.intra_dist_mean_from_list(cluster_hist))\n",
    "\n",
    "                    results.append( {\n",
    "                        \"method\": method,\n",
    "                        \"init_clusters\": init,\n",
    "                        \"n_clusters\": n_clusters,\n",
    "                        \"NMIs\": NMIs,\n",
    "                        \"mean_NMI\": np.mean([ n[-1] for n in NMIs ]),\n",
    "                        \"mean_NMI_init\": np.mean([ n[0] for n in NMIs ]),\n",
    "                        \"accs\": accs,\n",
    "                        \"mean_acc\": np.mean(accs),\n",
    "                        \"mean_acc_init\": np.mean(accs_init),\n",
    "                        \"ds\": ds,\n",
    "                        \"mean_ds\": np.mean([ d[-1] for d in ds ]),\n",
    "                        \"mean_ds_init\": np.mean([ d[0] for d in ds ]),\n",
    "                        \"ds_truth\": gchc_temp.intra_dist_mean(correct_clusters, method=method),\n",
    "                        \"ds_baseline\": gchc_temptemp.intra_dist_mean(clusters_random, method=method)\n",
    "                    } )\n",
    "    return results, np.mean(nmi_baseline), np.mean(nmi_truth), np.mean(acc_baseline), np.mean(acc_truth)\n",
    "\n",
    "\n",
    "cluster_numbers = range(1, 18, 1)\n",
    "results, nmi_baseline, nmi_truth, acc_baseline, acc_truth = experiment(repetitions=20, data_repetitions=20)"
   ],
   "metadata": {
    "collapsed": false,
    "pycharm": {
     "is_executing": true
    }
   }
  },
  {
   "cell_type": "markdown",
   "source": [
    " Extract the NMIs and SCs from the results for display."
   ],
   "metadata": {
    "collapsed": false
   }
  },
  {
   "cell_type": "code",
   "execution_count": null,
   "outputs": [],
   "source": [
    "nmis = {}\n",
    "accs = {}\n",
    "ds = {}\n",
    "nmis_runs = {}# runs with correct number of classes\n",
    "accs_runs = {}\n",
    "ds_runs = {}\n",
    "ds_truth = {}\n",
    "ds_baseline = {}\n",
    "\n",
    "def trial_name(result):\n",
    "    return result[\"method\"].name + \" \" + result[\"init_clusters\"]\n",
    "\n",
    "for entry in results:\n",
    "    name = trial_name(entry)\n",
    "    if name not in nmis.keys():\n",
    "        nmis[name] = []\n",
    "        accs[name] = []\n",
    "        ds[name] = []\n",
    "        nmis_runs[name] = []\n",
    "        accs_runs[name] = []\n",
    "        ds_runs[name] = []\n",
    "        ds_truth[name] = []\n",
    "        ds_baseline[name] = []\n",
    "    nmis[name].append(entry[\"mean_NMI\"])\n",
    "    accs[name].append(entry[\"mean_acc\"])\n",
    "    ds[name].append(entry[\"mean_ds\"])\n",
    "    ds_truth[name].append(entry[\"ds_truth\"])\n",
    "    ds_baseline[name].append(entry[\"ds_baseline\"])\n",
    "    if entry[\"n_clusters\"] == n_classes:\n",
    "        nmis_runs[name] += entry[\"NMIs\"]\n",
    "        accs_runs[name] += entry[\"accs\"]\n",
    "        ds_runs[name] += entry[\"ds\"]\n"
   ],
   "metadata": {
    "collapsed": false,
    "pycharm": {
     "is_executing": true
    }
   }
  },
  {
   "cell_type": "markdown",
   "source": [
    "Print the best results and plot the scores by cluster number"
   ],
   "metadata": {
    "collapsed": false
   }
  },
  {
   "cell_type": "code",
   "execution_count": null,
   "outputs": [],
   "source": [
    "# plot_NMIs = Plot()\n",
    "# plot_NMIs.inc(ylabel=\"NMI score\", xlabel=\"k clusters\")\n",
    "# plot_accs = Plot()\n",
    "# plot_accs.inc(ylabel=\"SC score\", xlabel=\"k clusters\")\n",
    "cluster_numbers = [n_classes]\n",
    "k=7\n",
    "print(\"NMI scores:\")\n",
    "for name, nmi in nmis.items():\n",
    "    print(f\"{name}: {np.mean(nmi)}\")\n",
    "#     plot_NMIs.add(nmi,x=cluster_numbers, label=name)\n",
    "print(\"Random clusters:\", nmi_baseline)\n",
    "print(\"Dataset: \", nmi_truth)\n",
    "\n",
    "print(\"Mean CCA:\")\n",
    "for name, acc in accs.items():\n",
    "    print(f\"{name}: {np.mean(acc)}\")\n",
    "    # plot_accs.add(acc,x=cluster_numbers, label=name)\n",
    "print(\"Random clusters:\", acc_baseline)\n",
    "print(\"Dataset: \", acc_truth)\n",
    "# plot_NMIs.finalize(\"NMIs for different k's across conditions\")\n",
    "# plot_accs.finalize(\"NMIs for different k's across conditions\")\n",
    "print(\"Mean MICD:\")\n",
    "for name, d in ds.items():\n",
    "    print(f\"{name}: {np.mean(d)}\")\n",
    "# print(\"Mean D truth:\")\n",
    "# for name, d in ds_truth.items():\n",
    "#     print(f\"{name}: {np.mean(d)}\")\n",
    "# print(\"Mean D baseline:\")\n",
    "# for name, d in ds_baseline.items():\n",
    "#     print(f\"{name}: {np.mean(d)}\")\n",
    "    # plot_accs.add(acc,x=cluster_numbers, label=name)\n",
    "# print(\"Random clusters:\", ds_baseline)\n",
    "# print(\"Dataset SC: \", ds_truth)\n",
    "# plot_NMIs.finalize(\"NMIs for different k's across conditions\")\n",
    "# plot_accs.finalize(\"NMIs for different k's across conditions\")"
   ],
   "metadata": {
    "collapsed": false,
    "pycharm": {
     "is_executing": true
    }
   }
  },
  {
   "cell_type": "markdown",
   "source": [
    "Plot progress over gchc iterations with k=7 clusters."
   ],
   "metadata": {
    "collapsed": false
   }
  },
  {
   "cell_type": "code",
   "execution_count": null,
   "outputs": [],
   "source": [
    "# # TODO: SEPARATE PLOTS\n",
    "# title=\"NMI progress for GCHC with k=7 clusters.\"\n",
    "# plt.figure(figsize=(10,8))\n",
    "#\n",
    "# #names = [\"Control\", \"Conceptor\"]\n",
    "# # SCs\n",
    "# for (name, nmis_run) in nmis_runs.items():\n",
    "#     for nmis_r in nmis_run:\n",
    "#         plt.plot(nmis_r, label=\"GCHC: \"+name)\n",
    "# plt.axhline(y=nmi_baseline, color='black', linestyle='dashdot', label=\"Random\")\n",
    "# plt.axhline(y=nmi_truth, color='green', linestyle='dashed', label=\"Dataset\")\n",
    "#\n",
    "# # Legend\n",
    "# plt.legend(title=\"NMI\", title_fontsize=default_font_size, fontsize=default_font_size)\n",
    "# plt.xlabel('Iteration', fontsize=default_font_size)\n",
    "# plt.ylabel('NMI', fontsize=default_font_size)\n",
    "# plt.show()"
   ],
   "metadata": {
    "collapsed": false,
    "pycharm": {
     "is_executing": true
    }
   }
  },
  {
   "cell_type": "code",
   "execution_count": null,
   "outputs": [],
   "source": [
    "# # TODO: SEPARATE PLOTS\n",
    "# title=\"ACC Progress with K=7 Clusters.\"\n",
    "# plt.figure(figsize=(10,8))\n",
    "#\n",
    "# #names = [\"Control\", \"Conceptor\"]\n",
    "# # SCs\n",
    "# for (name, accs_run) in accs_runs.items():\n",
    "#     for accs_r in accs_run:\n",
    "#         plt.plot(accs_r, label=\"GCHC: \"+name)\n",
    "# plt.axhline(y=acc_baseline, color='black', linestyle='dashdot', label=\"Random\")\n",
    "# plt.axhline(y=acc_truth, color='green', linestyle='dashed', label=\"Dataset\")\n",
    "#\n",
    "# # Legend\n",
    "# plt.legend(title=\"SC\", title_fontsize=default_font_size, fontsize=default_font_size)\n",
    "# plt.xlabel('Iteration', fontsize=default_font_size)\n",
    "# plt.ylabel('SC', fontsize=default_font_size)\n",
    "# plt.show()"
   ],
   "metadata": {
    "collapsed": false,
    "pycharm": {
     "is_executing": true
    }
   }
  },
  {
   "cell_type": "code",
   "execution_count": null,
   "outputs": [],
   "source": [
    "# title=\"D Progress with K=7 Clusters.\"\n",
    "# plt.figure(figsize=(10,8))\n",
    "#\n",
    "# #names = [\"Control\", \"Conceptor\"]\n",
    "# for (name, ds_run) in ds_runs.items():\n",
    "#     for ds_r in ds_run:\n",
    "#         plt.plot(ds_r, label=\"GCHC: \"+name)\n",
    "#\n",
    "# # Legend\n",
    "# plt.legend(title=\"D\", title_fontsize=default_font_size, fontsize=default_font_size)\n",
    "# plt.xlabel('Iteration', fontsize=default_font_size)\n",
    "# plt.ylabel('D', fontsize=default_font_size)\n",
    "# plt.show()"
   ],
   "metadata": {
    "collapsed": false,
    "pycharm": {
     "is_executing": true
    }
   }
  },
  {
   "cell_type": "code",
   "execution_count": null,
   "outputs": [],
   "source": [
    "# plt.figure(figsize=(14,12))\n",
    "#\n",
    "# names = [\"MFCC-Euclidian\", \"ESN-Euclidian\", \"ESN-Evidence\", \"ESN-Hybrid\"]\n",
    "# # SCs\n",
    "# max_len = max(max(len(accs_r) for accs_r in accs_run) for name, accs_run in accs_runs.items())  # find the longest sequence\n",
    "# for name, accs_run in accs_runs.items():\n",
    "#     # Pad sequences with NaNs\n",
    "#     padded_accs = [np.pad(accs_r, (0, max_len - len(accs_r)), constant_values=np.nan) for accs_r in accs_run]\n",
    "#     # Compute average\n",
    "#     avg_accs = np.nanmean(padded_accs, axis=0)\n",
    "#     plt.plot(avg_accs, label=\"GCHC: \"+name)\n",
    "# plt.axhline(y=acc_baseline, color='black', linestyle='dashdot', label=\"Random\")\n",
    "# plt.axhline(y=acc_truth, color='green', linestyle='dashed', label=\"Dataset\")\n",
    "#\n",
    "# # Legend\n",
    "# plt.legend(title=\"SC\", title_fontsize=default_font_size, fontsize=default_font_size)\n",
    "# plt.xlabel('Iteration', fontsize=default_font_size)\n",
    "# plt.ylabel('SC', fontsize=default_font_size)\n",
    "# plt.show()"
   ],
   "metadata": {
    "collapsed": false,
    "pycharm": {
     "is_executing": true
    }
   }
  },
  {
   "cell_type": "code",
   "execution_count": null,
   "outputs": [],
   "source": [
    "import numpy as np\n",
    "import matplotlib.pyplot as plt\n",
    "\n",
    "plt.figure(figsize=(12,10))\n",
    "\n",
    "names = [\"MFCC-Euclidian\", \"ESN-Euclidian\", \"ESN-Evidence\", \"ESN-Hybrid\"]\n",
    "\n",
    "max_len = max(max(len(nmis_r) for nmis_r in nmis_run) for name, nmis_run in nmis_runs.items())  # find the longest sequence\n",
    "for name, nmis_run in zip(names, nmis_runs.values()):\n",
    "    # Pad sequences with NaNs\n",
    "    padded_nmis = [np.pad(nmis_r, (0, max_len - len(nmis_r)), constant_values=np.nan) for nmis_r in nmis_run]\n",
    "    # Compute average\n",
    "    avg_nmis = np.nanmean(padded_nmis, axis=0)\n",
    "    plt.plot(avg_nmis, label=name)\n",
    "\n",
    "plt.axhline(y=nmi_baseline, color='black', linestyle='dashdot')\n",
    "plt.text(0, nmi_baseline + 0.01, \"Random clusters\", color='black', ha='left', va='bottom', fontsize=default_font_size)\n",
    "plt.axhline(y=nmi_truth, color='green', linestyle='dashed')\n",
    "plt.text(0, nmi_truth + 0.01, \"Dataset classes\", color='green', ha='left', va='bottom', fontsize=default_font_size)\n",
    "\n",
    "plt.ylim(bottom=0)\n",
    "\n",
    "# Set x-axis to display every other integer\n",
    "plt.xticks(np.arange(0, max_len, 2), fontsize=default_font_size)\n",
    "\n",
    "# Change tick size\n",
    "plt.yticks(fontsize=default_font_size)\n",
    "\n",
    "# Legend\n",
    "plt.legend(title=\"NMI in Condition:\", title_fontsize=default_font_size, fontsize=default_font_size, bbox_to_anchor=(1, .95), loc='upper right')\n",
    "plt.xlabel('Iteration', fontsize=default_font_size)\n",
    "plt.ylabel('NMI', fontsize=default_font_size)\n",
    "plt.show()"
   ],
   "metadata": {
    "collapsed": false,
    "pycharm": {
     "is_executing": true
    }
   }
  },
  {
   "cell_type": "code",
   "execution_count": null,
   "outputs": [],
   "source": [
    "import numpy as np\n",
    "import matplotlib.pyplot as plt\n",
    "\n",
    "plt.figure(figsize=(12,10))\n",
    "\n",
    "names = [\"MFCC-Euclidian\", \"ESN-Euclidian\", \"ESN-Evidence\", \"ESN-Hybrid\"]\n",
    "\n",
    "max_len = max(max(len(ds_r) for ds_r in ds_run) for name, ds_run in ds_runs.items())  # find the longest sequence\n",
    "for name, ds_run in zip(names, ds_runs.values()):\n",
    "    padded_ds = [np.pad(ds_r, (0, max_len - len(ds_r)), constant_values=np.nan) for ds_r in ds_run]\n",
    "    avg_ds = np.nanmean(padded_ds, axis=0)\n",
    "    min_value = np.nanmin(avg_ds)\n",
    "    max_value = np.nanmax(avg_ds)\n",
    "    normalized_avg_ds = (avg_ds - min_value) / (max_value - min_value)  # Normalize to [0, 1]\n",
    "    plt.plot(normalized_avg_ds, label=name)\n",
    "\n",
    "# Legend\n",
    "plt.legend(title=\"Normalized MICD in Condition:\", title_fontsize=default_font_size, fontsize=default_font_size)\n",
    "plt.xlabel('Iteration', fontsize=default_font_size)\n",
    "plt.ylabel('Normalized MICD', fontsize=default_font_size)\n",
    "\n",
    "# Set x-axis to display every other integer\n",
    "plt.xticks(np.arange(0, max_len, 2), fontsize=default_font_size)\n",
    "plt.yticks(fontsize=default_font_size)\n",
    "\n",
    "plt.show()"
   ],
   "metadata": {
    "collapsed": false,
    "pycharm": {
     "is_executing": true
    }
   }
  }
 ],
 "metadata": {
  "kernelspec": {
   "display_name": "Python 3 (ipykernel)",
   "language": "python",
   "name": "python3"
  },
  "language_info": {
   "codemirror_mode": {
    "name": "ipython",
    "version": 3
   },
   "file_extension": ".py",
   "mimetype": "text/x-python",
   "name": "python",
   "nbconvert_exporter": "python",
   "pygments_lexer": "ipython3",
   "version": "3.10.5"
  },
  "vscode": {
   "interpreter": {
    "hash": "85a7095e0b17f1db0bd51573cd0d88781c688ef4e6e2f1ecf40c28cdd364372d"
   }
  }
 },
 "nbformat": 4,
 "nbformat_minor": 5
}
