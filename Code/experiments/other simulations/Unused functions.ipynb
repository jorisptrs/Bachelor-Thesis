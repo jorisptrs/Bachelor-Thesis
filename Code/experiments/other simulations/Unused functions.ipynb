{
 "cells": [
  {
   "cell_type": "markdown",
   "id": "0c6e47ac",
   "metadata": {},
   "source": [
    "# Custom Similarity/Distance function"
   ]
  },
  {
   "cell_type": "code",
   "execution_count": 6,
   "id": "29aa99c8",
   "metadata": {},
   "outputs": [
    {
     "name": "stdout",
     "output_type": "stream",
     "text": [
      "0.34815531191139504\n",
      "0.8924878041920855\n"
     ]
    }
   ],
   "source": [
    "def similarity_c_custom(C1,C2,dist_fun):\n",
    "    U1, s1, _ = np.linalg.svd(C1, hermitian=True, full_matrices=False)\n",
    "    U2, s2, _ = np.linalg.svd(C2, hermitian=True, full_matrices=False)\n",
    "    \n",
    "    if dist_fun == \"eucl\":\n",
    "        d = 0\n",
    "        \n",
    "        U1 = U1 @ np.diag(s1)\n",
    "        U2 = U2 @ np.diag(s2)\n",
    "        for i1, row1 in enumerate(U1):\n",
    "            for i2, row2 in enumerate(U2):\n",
    "                aligned_row2 = (1 - 2 * (row1 @ row2 < 0)) * row2\n",
    "                d += linalg.norm(row1 - aligned_row2)\n",
    "\n",
    "        return d / (linalg.norm(s1)+linalg.norm(s2))\n",
    "    \n",
    "    elif dist_fun == \"cos\":\n",
    "        return linalg.norm(\n",
    "            np.diag(s1)**0.5 @ U1.T @ U2 @ np.diag(s2)**0.5)**2 / (linalg.norm(s1)*linalg.norm(s2)\n",
    "        )\n",
    "\n",
    "dist_fun = 'eucl'\n",
    "a = np.array([[1,1,1],[2,2,2],[2,2,2]])\n",
    "b = np.array([[1,1,1],[2,0,2],[2,2,2]])\n",
    "d = similarity_c_custom(a,a,dist_fun)\n",
    "print(d)\n",
    "d = similarity_c_custom(a,b,dist_fun)\n",
    "print(d)\n",
    "#d = similarity_c_custom(Cs[phonemes.index(\"f\")],Cs[phonemes.index(\"h#\")],dist_fun)\n",
    "#print(d)"
   ]
  },
  {
   "cell_type": "markdown",
   "id": "1b3deb66",
   "metadata": {},
   "source": [
    "# Overlaps after clustering"
   ]
  },
  {
   "cell_type": "code",
   "execution_count": 50,
   "id": "d277a7d3",
   "metadata": {},
   "outputs": [],
   "source": [
    "overlaps = np.zeros((len(phonemes), len(phonemes))) # (Cs x phonemes)\n",
    "\n",
    "for C_idx, assignment in enumerate(assignments):\n",
    "    for idx in assignment:\n",
    "        overlaps[C_idx, phonemes.index(labs[idx])] += 1\n",
    "\n",
    "dic = {}\n",
    "\n",
    "for _ in range(len(phonemes)):\n",
    "    C_idx, phoneme_idx = np.unravel_index(overlaps.argmax(), overlaps.shape)\n",
    "    dic[phonemes[phoneme_idx]] = C_idx\n",
    "    overlaps[C_idx,:] = np.zeros((1,len(phonemes)))\n",
    "    overlaps[:,phoneme_idx] = np.zeros((len(phonemes),))\n",
    "\n",
    "Cs_final = []\n",
    "Ns_final = []\n",
    "for phoneme in [p for p in phonemes if p in list(dic.keys()) ]:\n",
    "    Cs_final.append(Cs_kmeans[dic[phoneme]])\n",
    "    Ns_final.append(Ns_kmeans[dic[phoneme]])"
   ]
  }
 ],
 "metadata": {
  "kernelspec": {
   "display_name": "Python 3.9.7 ('tf2')",
   "language": "python",
   "name": "python3"
  },
  "language_info": {
   "codemirror_mode": {
    "name": "ipython",
    "version": 3
   },
   "file_extension": ".py",
   "mimetype": "text/x-python",
   "name": "python",
   "nbconvert_exporter": "python",
   "pygments_lexer": "ipython3",
   "version": "3.9.7"
  },
  "vscode": {
   "interpreter": {
    "hash": "bc5c556f5b77cd3c3ffe5b9b906d61fae933f7149a46dc07237f176b2b4972e4"
   }
  }
 },
 "nbformat": 4,
 "nbformat_minor": 5
}
